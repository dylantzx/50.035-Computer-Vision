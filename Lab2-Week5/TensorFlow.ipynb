{
  "cells": [
    {
      "cell_type": "markdown",
      "metadata": {
        "tags": [
          "pdf-title"
        ],
        "id": "LHDQBu9HTKCn"
      },
      "source": [
        "# What's this TensorFlow business?\n",
        "\n",
        "You've written a lot of code in this assignment to provide a whole host of neural network functionality. Dropout, Batch Norm, and 2D convolutions are some of the workhorses of deep learning in computer vision. You've also worked hard to make your code efficient and vectorized.\n",
        "\n",
        "For the last part of this assignment, though, we're going to leave behind your beautiful codebase and instead migrate to one of two popular deep learning frameworks: in this instance, TensorFlow (or PyTorch, if you choose to work with that notebook)."
      ]
    },
    {
      "cell_type": "markdown",
      "metadata": {
        "tags": [
          "pdf-ignore"
        ],
        "id": "891q4xu8TKCr"
      },
      "source": [
        "#### What is it?\n",
        "TensorFlow is a system for executing computational graphs over Tensor objects, with native support for performing backpropogation for its Variables. In it, we work with Tensors which are n-dimensional arrays analogous to the numpy ndarray.\n",
        "\n",
        "#### Why?\n",
        "\n",
        "* Our code will now run on GPUs! Much faster training. Writing your own modules to run on GPUs is beyond the scope of this class, unfortunately.\n",
        "* We want you to be ready to use one of these frameworks for your project so you can experiment more efficiently than if you were writing every feature you want to use by hand. \n",
        "* We want you to stand on the shoulders of giants! TensorFlow and PyTorch are both excellent frameworks that will make your lives a lot easier, and now that you understand their guts, you are free to use them :) \n",
        "* We want you to be exposed to the sort of deep learning code you might run into in academia or industry. "
      ]
    },
    {
      "cell_type": "markdown",
      "metadata": {
        "id": "Zb7d6LJiTKCs"
      },
      "source": [
        "**Acknowledgement: This exercise is adapted from [Stanford CS231n](http://cs231n.stanford.edu/index.html).**"
      ]
    },
    {
      "cell_type": "markdown",
      "metadata": {
        "tags": [
          "pdf-ignore"
        ],
        "id": "zsM7D6_5TKCu"
      },
      "source": [
        "## How will I learn TensorFlow?\n",
        "\n",
        "TensorFlow has many excellent tutorials available, including those from [Google themselves](https://www.tensorflow.org/get_started/get_started).\n",
        "\n",
        "Otherwise, this notebook will walk you through much of what you need to do to train models in TensorFlow. See the end of the notebook for some links to helpful tutorials if you want to learn more or need further clarification on topics that aren't fully explained here.\n",
        "\n",
        "**NOTE: This notebook is meant to teach you the latest version of Tensorflow 2.0. Most examples on the web today are still in 1.x, so be careful not to confuse the two when looking up documentation**.\n",
        "\n",
        "## Install Tensorflow 2.0\n",
        "Tensorflow 2.0 is still not in a fully 100% stable release, but it's still usable and more intuitive than TF 1.x. Please make sure you have it installed before moving on in this notebook! Here are some steps to get started:\n",
        "\n",
        "1. Have the latest version of Anaconda installed on your machine.\n",
        "2. Create a new conda environment starting from Python 3.7. In this setup example, we'll call it `tf_20_env`.\n",
        "3. Run the command: `source activate tf_20_env`\n",
        "4. Then pip install TF 2.0 as described here: https://www.tensorflow.org/install/pip \n",
        "\n",
        "A guide on creating Anaconda enviornments: https://uoa-eresearch.github.io/eresearch-cookbook/recipe/2014/11/20/conda/\n",
        "\n",
        "This will give you an new enviornemnt to play in TF 2.0. Generally, if you plan to also use TensorFlow in your other projects, you might also want to keep a seperate Conda environment or virtualenv in Python 3.7 that has Tensorflow 1.9, so you can switch back and forth at will. "
      ]
    },
    {
      "cell_type": "markdown",
      "metadata": {
        "id": "oDq51WJ3TKCy"
      },
      "source": [
        "**Acknowledgement: This exercise is adapted from [Stanford CS231n](http://cs231n.stanford.edu/index.html).**"
      ]
    },
    {
      "cell_type": "markdown",
      "metadata": {
        "id": "gllYP1aNTKCy"
      },
      "source": [
        "## How will I learn TensorFlow?\n",
        "\n",
        "TensorFlow has many excellent tutorials available, including those from [Google themselves](https://www.tensorflow.org/get_started/get_started).\n",
        "\n",
        "Otherwise, this notebook will walk you through much of what you need to do to train models in TensorFlow. See the end of the notebook for some links to helpful tutorials if you want to learn more or need further clarification on topics that aren't fully explained here.\n",
        "\n",
        "# Part I: Preparation"
      ]
    },
    {
      "cell_type": "code",
      "execution_count": 1,
      "metadata": {
        "tags": [
          "pdf-ignore"
        ],
        "id": "Taj9kCV6TKCz"
      },
      "outputs": [],
      "source": [
        "import os\n",
        "import tensorflow as tf\n",
        "import numpy as np\n",
        "import math\n",
        "import timeit\n",
        "import matplotlib.pyplot as plt\n",
        "\n",
        "%matplotlib inline"
      ]
    },
    {
      "cell_type": "code",
      "execution_count": 2,
      "metadata": {
        "tags": [
          "pdf-ignore"
        ],
        "colab": {
          "base_uri": "https://localhost:8080/"
        },
        "id": "-o69S5rITKC2",
        "outputId": "ddf51d12-b16b-4d83-d9fd-1fc7079cc7e4"
      },
      "outputs": [
        {
          "output_type": "stream",
          "name": "stdout",
          "text": [
            "Train data shape:  (49000, 32, 32, 3)\n",
            "Train labels shape:  (49000,) int32\n",
            "Validation data shape:  (1000, 32, 32, 3)\n",
            "Validation labels shape:  (1000,)\n",
            "Test data shape:  (10000, 32, 32, 3)\n",
            "Test labels shape:  (10000,)\n"
          ]
        }
      ],
      "source": [
        "def load_cifar10(num_training=49000, num_validation=1000, num_test=10000):\n",
        "    \"\"\"\n",
        "    Fetch the CIFAR-10 dataset from the web and perform preprocessing to prepare\n",
        "    it for the two-layer neural net classifier. These are the same steps as\n",
        "    we used for the SVM, but condensed to a single function.\n",
        "    \"\"\"\n",
        "    # Load the raw CIFAR-10 dataset and use appropriate data types and shapes\n",
        "    cifar10 = tf.keras.datasets.cifar10.load_data()\n",
        "    (X_train, y_train), (X_test, y_test) = cifar10\n",
        "    X_train = np.asarray(X_train, dtype=np.float32)\n",
        "    y_train = np.asarray(y_train, dtype=np.int32).flatten()\n",
        "    X_test = np.asarray(X_test, dtype=np.float32)\n",
        "    y_test = np.asarray(y_test, dtype=np.int32).flatten()\n",
        "\n",
        "    # Subsample the data\n",
        "    mask = range(num_training, num_training + num_validation)\n",
        "    X_val = X_train[mask]\n",
        "    y_val = y_train[mask]\n",
        "    mask = range(num_training)\n",
        "    X_train = X_train[mask]\n",
        "    y_train = y_train[mask]\n",
        "    mask = range(num_test)\n",
        "    X_test = X_test[mask]\n",
        "    y_test = y_test[mask]\n",
        "\n",
        "    # Normalize the data: subtract the mean pixel and divide by std\n",
        "    mean_pixel = X_train.mean(axis=(0, 1, 2), keepdims=True)\n",
        "    std_pixel = X_train.std(axis=(0, 1, 2), keepdims=True)\n",
        "    X_train = (X_train - mean_pixel) / std_pixel\n",
        "    X_val = (X_val - mean_pixel) / std_pixel\n",
        "    X_test = (X_test - mean_pixel) / std_pixel\n",
        "\n",
        "    return X_train, y_train, X_val, y_val, X_test, y_test\n",
        "\n",
        "# If there are errors with SSL downloading involving self-signed certificates,\n",
        "# it may be that your Python version was recently installed on the current machine.\n",
        "# See: https://github.com/tensorflow/tensorflow/issues/10779\n",
        "# To fix, run the command: /Applications/Python\\ 3.7/Install\\ Certificates.command\n",
        "#   ...replacing paths as necessary.\n",
        "\n",
        "# Invoke the above function to get our data.\n",
        "NHW = (0, 1, 2)\n",
        "X_train, y_train, X_val, y_val, X_test, y_test = load_cifar10()\n",
        "print('Train data shape: ', X_train.shape)\n",
        "print('Train labels shape: ', y_train.shape, y_train.dtype)\n",
        "print('Validation data shape: ', X_val.shape)\n",
        "print('Validation labels shape: ', y_val.shape)\n",
        "print('Test data shape: ', X_test.shape)\n",
        "print('Test labels shape: ', y_test.shape)"
      ]
    },
    {
      "cell_type": "code",
      "execution_count": 3,
      "metadata": {
        "tags": [
          "pdf-ignore"
        ],
        "id": "eGDDQmTqTKC4"
      },
      "outputs": [],
      "source": [
        "class Dataset(object):\n",
        "    def __init__(self, X, y, batch_size, shuffle=False):\n",
        "        \"\"\"\n",
        "        Construct a Dataset object to iterate over data X and labels y\n",
        "        \n",
        "        Inputs:\n",
        "        - X: Numpy array of data, of any shape\n",
        "        - y: Numpy array of labels, of any shape but with y.shape[0] == X.shape[0]\n",
        "        - batch_size: Integer giving number of elements per minibatch\n",
        "        - shuffle: (optional) Boolean, whether to shuffle the data on each epoch\n",
        "        \"\"\"\n",
        "        assert X.shape[0] == y.shape[0], 'Got different numbers of data and labels'\n",
        "        self.X, self.y = X, y\n",
        "        self.batch_size, self.shuffle = batch_size, shuffle\n",
        "\n",
        "    def __iter__(self):\n",
        "        N, B = self.X.shape[0], self.batch_size\n",
        "        idxs = np.arange(N)\n",
        "        if self.shuffle:\n",
        "            np.random.shuffle(idxs)\n",
        "        return iter((self.X[i:i+B], self.y[i:i+B]) for i in range(0, N, B))\n",
        "\n",
        "\n",
        "train_dset = Dataset(X_train, y_train, batch_size=64, shuffle=True)\n",
        "val_dset = Dataset(X_val, y_val, batch_size=64, shuffle=False)\n",
        "test_dset = Dataset(X_test, y_test, batch_size=64)"
      ]
    },
    {
      "cell_type": "code",
      "execution_count": 4,
      "metadata": {
        "colab": {
          "base_uri": "https://localhost:8080/"
        },
        "id": "-4UtliHhTKC5",
        "outputId": "35677684-2bf9-44e9-f240-8da3ba7002da"
      },
      "outputs": [
        {
          "output_type": "stream",
          "name": "stdout",
          "text": [
            "0 (64, 32, 32, 3) (64,)\n",
            "1 (64, 32, 32, 3) (64,)\n",
            "2 (64, 32, 32, 3) (64,)\n",
            "3 (64, 32, 32, 3) (64,)\n",
            "4 (64, 32, 32, 3) (64,)\n",
            "5 (64, 32, 32, 3) (64,)\n",
            "6 (64, 32, 32, 3) (64,)\n"
          ]
        }
      ],
      "source": [
        "# We can iterate through a dataset like this:\n",
        "for t, (x, y) in enumerate(train_dset):\n",
        "    print(t, x.shape, y.shape)\n",
        "    if t > 5: break"
      ]
    },
    {
      "cell_type": "markdown",
      "metadata": {
        "id": "ZYXeGjVFTKC6"
      },
      "source": [
        "You can optionally **use GPU by setting the flag to True below**. It's not neccessary to use a GPU for this assignment; if you are working on Google Cloud then we recommend that you do not use a GPU, as it will be significantly more expensive."
      ]
    },
    {
      "cell_type": "code",
      "execution_count": 5,
      "metadata": {
        "tags": [
          "pdf-ignore-input"
        ],
        "colab": {
          "base_uri": "https://localhost:8080/"
        },
        "id": "2wPnE_PwTKC7",
        "outputId": "39a9baa0-97fc-4c8a-b521-313c16b6250f"
      },
      "outputs": [
        {
          "output_type": "stream",
          "name": "stdout",
          "text": [
            "Using device:  /cpu:0\n"
          ]
        }
      ],
      "source": [
        "# Set up some global variables\n",
        "USE_GPU = False\n",
        "\n",
        "if USE_GPU:\n",
        "    device = '/device:GPU:0'\n",
        "else:\n",
        "    device = '/cpu:0'\n",
        "\n",
        "# Constant to control how often we print when training models\n",
        "print_every = 100\n",
        "\n",
        "print('Using device: ', device)"
      ]
    },
    {
      "cell_type": "markdown",
      "metadata": {
        "tags": [
          "pdf-ignore"
        ],
        "id": "olxqGbXsTKC7"
      },
      "source": [
        "# Part II: Barebones TensorFlow\n",
        "TensorFlow ships with various high-level APIs which make it very convenient to define and train neural networks; we will cover some of these constructs in Part III and Part IV of this notebook. In this section we will start by building a model with basic TensorFlow constructs to help you better understand what's going on under the hood of the higher-level APIs.\n",
        "\n",
        "**\"Barebones Tensorflow\" is important to understanding the building blocks of TensorFlow, but much of it involves concepts from TensorFlow 1.x.** We will be working with legacy modules such as `tf.Variable`.\n",
        "\n",
        "Therefore, please read and understand the differences between legacy (1.x) TF and the new (2.0) TF.\n",
        "\n",
        "### Historical background on TensorFlow 1.x\n",
        "\n",
        "TensorFlow 1.x is primarily a framework for working with **static computational graphs**. Nodes in the computational graph are Tensors which will hold n-dimensional arrays when the graph is run; edges in the graph represent functions that will operate on Tensors when the graph is run to actually perform useful computation.\n",
        "\n",
        "Before Tensorflow 2.0, we had to configure the graph into two phases. There are plenty of tutorials online that explain this two-step process. The process generally looks like the following for TF 1.x:\n",
        "1. **Build a computational graph that describes the computation that you want to perform**. This stage doesn't actually perform any computation; it just builds up a symbolic representation of your computation. This stage will typically define one or more `placeholder` objects that represent inputs to the computational graph.\n",
        "2. **Run the computational graph many times.** Each time the graph is run (e.g. for one gradient descent step) you will specify which parts of the graph you want to compute, and pass a `feed_dict` dictionary that will give concrete values to any `placeholder`s in the graph.\n",
        "\n",
        "### The new paradigm in Tensorflow 2.0\n",
        "Now, with Tensorflow 2.0, we can simply adopt a functional form that is more Pythonic and similar in spirit to PyTorch and direct Numpy operation. Instead of the 2-step paradigm with computation graphs, making it (among other things) easier to debug TF code. You can read more details at https://www.tensorflow.org/guide/eager.\n",
        "\n",
        "The main difference between the TF 1.x and 2.0 approach is that the 2.0 approach doesn't make use of `tf.Session`, `tf.run`, `placeholder`, `feed_dict`. To get more details of what's different between the two version and how to convert between the two, check out the official migration guide: https://www.tensorflow.org/alpha/guide/migration_guide\n",
        "\n",
        "Later, in the rest of this notebook we'll focus on this new, simpler approach."
      ]
    },
    {
      "cell_type": "markdown",
      "metadata": {
        "tags": [
          "pdf-ignore"
        ],
        "id": "qDKeqr8gTKC9"
      },
      "source": [
        "### TensorFlow warmup: Flatten Function\n",
        "\n",
        "We can see this in action by defining a simple `flatten` function that will reshape image data for use in a fully-connected network.\n",
        "\n",
        "In TensorFlow, data for convolutional feature maps is typically stored in a Tensor of shape N x H x W x C where:\n",
        "\n",
        "- N is the number of datapoints (minibatch size)\n",
        "- H is the height of the feature map\n",
        "- W is the width of the feature map\n",
        "- C is the number of channels in the feature map\n",
        "\n",
        "This is the right way to represent the data when we are doing something like a 2D convolution, that needs spatial understanding of where the intermediate features are relative to each other. When we use fully connected affine layers to process the image, however, we want each datapoint to be represented by a single vector -- it's no longer useful to segregate the different channels, rows, and columns of the data. So, we use a \"flatten\" operation to collapse the `H x W x C` values per representation into a single long vector. \n",
        "\n",
        "Notice the `tf.reshape` call has the target shape as `(N, -1)`, meaning it will reshape/keep the first dimension to be N, and then infer as necessary what the second dimension is in the output, so we can collapse the remaining dimensions from the input properly.\n",
        "\n",
        "**NOTE**: TensorFlow and PyTorch differ on the default Tensor layout; TensorFlow uses N x H x W x C but PyTorch uses N x C x H x W."
      ]
    },
    {
      "cell_type": "code",
      "execution_count": 6,
      "metadata": {
        "tags": [
          "pdf-ignore"
        ],
        "id": "ohdEaBf8TKC-"
      },
      "outputs": [],
      "source": [
        "def flatten(x):\n",
        "    \"\"\"    \n",
        "    Input:\n",
        "    - TensorFlow Tensor of shape (N, D1, ..., DM)\n",
        "    \n",
        "    Output:\n",
        "    - TensorFlow Tensor of shape (N, D1 * ... * DM)\n",
        "    \"\"\"\n",
        "    N = tf.shape(x)[0]\n",
        "    return tf.reshape(x, (N, -1))"
      ]
    },
    {
      "cell_type": "code",
      "execution_count": 7,
      "metadata": {
        "tags": [
          "pdf-ignore-input"
        ],
        "colab": {
          "base_uri": "https://localhost:8080/"
        },
        "id": "zYqVNum1TKC-",
        "outputId": "0dc34574-8a02-40ba-ea74-753ea8c01092"
      },
      "outputs": [
        {
          "output_type": "stream",
          "name": "stdout",
          "text": [
            "x_np:\n",
            " [[[ 0  1  2  3]\n",
            "  [ 4  5  6  7]\n",
            "  [ 8  9 10 11]]\n",
            "\n",
            " [[12 13 14 15]\n",
            "  [16 17 18 19]\n",
            "  [20 21 22 23]]] \n",
            "\n",
            "x_flat_np:\n",
            " tf.Tensor(\n",
            "[[ 0  1  2  3  4  5  6  7  8  9 10 11]\n",
            " [12 13 14 15 16 17 18 19 20 21 22 23]], shape=(2, 12), dtype=int64) \n",
            "\n"
          ]
        }
      ],
      "source": [
        "def test_flatten():\n",
        "    # Construct concrete values of the input data x using numpy\n",
        "    x_np = np.arange(24).reshape((2, 3, 4))\n",
        "    print('x_np:\\n', x_np, '\\n')\n",
        "    # Compute a concrete output value.\n",
        "    x_flat_np = flatten(x_np)\n",
        "    print('x_flat_np:\\n', x_flat_np, '\\n')\n",
        "\n",
        "test_flatten()"
      ]
    },
    {
      "cell_type": "markdown",
      "metadata": {
        "id": "bsicnE06TKC_"
      },
      "source": [
        "### Barebones TensorFlow: Define a Two-Layer Network\n",
        "We will now implement our first neural network with TensorFlow: a fully-connected ReLU network with two hidden layers and no biases on the CIFAR10 dataset. For now we will use only low-level TensorFlow operators to define the network; later we will see how to use the higher-level abstractions provided by `tf.keras` to simplify the process.\n",
        "\n",
        "We will define the forward pass of the network in the function `two_layer_fc`; this will accept TensorFlow Tensors for the inputs and weights of the network, and return a TensorFlow Tensor for the scores. \n",
        "\n",
        "After defining the network architecture in the `two_layer_fc` function, we will test the implementation by checking the shape of the output.\n",
        "\n",
        "**It's important that you read and understand this implementation.**"
      ]
    },
    {
      "cell_type": "code",
      "execution_count": 8,
      "metadata": {
        "tags": [
          "pdf-ignore"
        ],
        "id": "jq3wbMYwTKC_"
      },
      "outputs": [],
      "source": [
        "def two_layer_fc(x, params):\n",
        "    \"\"\"\n",
        "    A fully-connected neural network; the architecture is:\n",
        "    fully-connected layer -> ReLU -> fully connected layer.\n",
        "    Note that we only need to define the forward pass here; TensorFlow will take\n",
        "    care of computing the gradients for us.\n",
        "    \n",
        "    The input to the network will be a minibatch of data, of shape\n",
        "    (N, d1, ..., dM) where d1 * ... * dM = D. The hidden layer will have H units,\n",
        "    and the output layer will produce scores for C classes.\n",
        "\n",
        "    Inputs:\n",
        "    - x: A TensorFlow Tensor of shape (N, d1, ..., dM) giving a minibatch of\n",
        "      input data.\n",
        "    - params: A list [w1, w2] of TensorFlow Tensors giving weights for the\n",
        "      network, where w1 has shape (D, H) and w2 has shape (H, C).\n",
        "    \n",
        "    Returns:\n",
        "    - scores: A TensorFlow Tensor of shape (N, C) giving classification scores\n",
        "      for the input data x.\n",
        "    \"\"\"\n",
        "    w1, w2 = params                   # Unpack the parameters\n",
        "    x = flatten(x)                    # Flatten the input; now x has shape (N, D)\n",
        "    h = tf.nn.relu(tf.matmul(x, w1))  # Hidden layer: h has shape (N, H)\n",
        "    scores = tf.matmul(h, w2)         # Compute scores of shape (N, C)\n",
        "    return scores"
      ]
    },
    {
      "cell_type": "code",
      "execution_count": 9,
      "metadata": {
        "tags": [
          "pdf-ignore-input"
        ],
        "colab": {
          "base_uri": "https://localhost:8080/"
        },
        "id": "yHjz69taTKC_",
        "outputId": "c07bd338-245f-4377-d1fa-6961ab85dc08"
      },
      "outputs": [
        {
          "output_type": "stream",
          "name": "stdout",
          "text": [
            "(64, 10)\n"
          ]
        }
      ],
      "source": [
        "def two_layer_fc_test():\n",
        "    hidden_layer_size = 42\n",
        "\n",
        "    # Scoping our TF operations under a tf.device context manager \n",
        "    # lets us tell TensorFlow where we want these Tensors to be\n",
        "    # multiplied and/or operated on, e.g. on a CPU or a GPU.\n",
        "    with tf.device(device):        \n",
        "        x = tf.zeros((64, 32, 32, 3))\n",
        "        w1 = tf.zeros((32 * 32 * 3, hidden_layer_size))\n",
        "        w2 = tf.zeros((hidden_layer_size, 10))\n",
        "\n",
        "        # Call our two_layer_fc function for the forward pass of the network.\n",
        "        scores = two_layer_fc(x, [w1, w2])\n",
        "\n",
        "    print(scores.shape)\n",
        "\n",
        "two_layer_fc_test()"
      ]
    },
    {
      "cell_type": "markdown",
      "metadata": {
        "id": "404lvlnMTKDA"
      },
      "source": [
        "### Barebones TensorFlow: Three-Layer ConvNet\n",
        "Here you will complete the implementation of the function `three_layer_convnet` which will perform the forward pass of a three-layer convolutional network. The network should have the following architecture:\n",
        "\n",
        "1. A convolutional layer (with bias) with `channel_1` filters, each with shape `KW1 x KH1`, and zero-padding of two\n",
        "2. ReLU nonlinearity\n",
        "3. A convolutional layer (with bias) with `channel_2` filters, each with shape `KW2 x KH2`, and zero-padding of one\n",
        "4. ReLU nonlinearity\n",
        "5. Fully-connected layer with bias, producing scores for `C` classes.\n",
        "\n",
        "**HINT**: For convolutions: https://www.tensorflow.org/versions/r2.0/api_docs/python/tf/nn/conv2d; be careful with padding!\n",
        "\n",
        "**HINT**: For biases: https://www.tensorflow.org/performance/xla/broadcasting"
      ]
    },
    {
      "cell_type": "code",
      "execution_count": 10,
      "metadata": {
        "id": "2XACWm2HTKDA"
      },
      "outputs": [],
      "source": [
        "def three_layer_convnet(x, params):\n",
        "    \"\"\"\n",
        "    A three-layer convolutional network with the architecture described above.\n",
        "    \n",
        "    Inputs:\n",
        "    - x: A TensorFlow Tensor of shape (N, H, W, 3) giving a minibatch of images\n",
        "    - params: A list of TensorFlow Tensors giving the weights and biases for the\n",
        "      network; should contain the following:\n",
        "      - conv_w1: TensorFlow Tensor of shape (KH1, KW1, 3, channel_1) giving\n",
        "        weights for the first convolutional layer.\n",
        "      - conv_b1: TensorFlow Tensor of shape (channel_1,) giving biases for the\n",
        "        first convolutional layer.\n",
        "      - conv_w2: TensorFlow Tensor of shape (KH2, KW2, channel_1, channel_2)\n",
        "        giving weights for the second convolutional layer\n",
        "      - conv_b2: TensorFlow Tensor of shape (channel_2,) giving biases for the\n",
        "        second convolutional layer.\n",
        "      - fc_w: TensorFlow Tensor giving weights for the fully-connected layer.\n",
        "        Can you figure out what the shape should be?\n",
        "      - fc_b: TensorFlow Tensor giving biases for the fully-connected layer.\n",
        "        Can you figure out what the shape should be?\n",
        "    \"\"\"\n",
        "    conv_w1, conv_b1, conv_w2, conv_b2, fc_w, fc_b = params\n",
        "    scores = None\n",
        "    ############################################################################\n",
        "    # TODO: Implement the forward pass for the three-layer ConvNet.            #\n",
        "    ############################################################################\n",
        "    # *****START OF YOUR CODE (DO NOT DELETE/MODIFY THIS LINE)*****\n",
        "\n",
        "    h1 = tf.nn.conv2d(x, filters=conv_w1, strides=1, padding=[[0, 0], [2, 2], [2, 2], [0, 0]]) + conv_b1\n",
        "    h1 = tf.nn.relu(h1)\n",
        "    h2 = tf.nn.conv2d(h1, filters=conv_w2, strides=1, padding=[[0, 0], [1, 1], [1, 1], [0, 0]]) + conv_b2\n",
        "    h2 = tf.nn.relu(h2)\n",
        "    h2 = flatten(h2)\n",
        "    scores = tf.matmul(h2, fc_w) + fc_b \n",
        "\n",
        "    # *****END OF YOUR CODE (DO NOT DELETE/MODIFY THIS LINE)*****\n",
        "    ############################################################################\n",
        "    #                              END OF YOUR CODE                            #\n",
        "    ############################################################################\n",
        "    return scores"
      ]
    },
    {
      "cell_type": "markdown",
      "metadata": {
        "id": "zzuTKc2eTKDA"
      },
      "source": [
        "After defing the forward pass of the three-layer ConvNet above, run the following cell to test your implementation. Like the two-layer network, we run the graph on a batch of zeros just to make sure the function doesn't crash, and produces outputs of the correct shape.\n",
        "\n",
        "When you run this function, `scores_np` should have shape `(64, 10)`."
      ]
    },
    {
      "cell_type": "code",
      "execution_count": 11,
      "metadata": {
        "jupyter": {
          "outputs_hidden": true
        },
        "tags": [
          "pdf-ignore-input"
        ],
        "colab": {
          "base_uri": "https://localhost:8080/"
        },
        "id": "LPTwhOAhTKDB",
        "outputId": "0a9e77ba-7a10-4f83-a205-fa5a9d8f4f27"
      },
      "outputs": [
        {
          "output_type": "stream",
          "name": "stdout",
          "text": [
            "scores_np has shape:  (64, 10)\n"
          ]
        }
      ],
      "source": [
        "def three_layer_convnet_test():\n",
        "    \n",
        "    with tf.device(device):\n",
        "        x = tf.zeros((64, 32, 32, 3))\n",
        "        conv_w1 = tf.zeros((5, 5, 3, 6))\n",
        "        conv_b1 = tf.zeros((6,))\n",
        "        conv_w2 = tf.zeros((3, 3, 6, 9))\n",
        "        conv_b2 = tf.zeros((9,))\n",
        "        fc_w = tf.zeros((32 * 32 * 9, 10))\n",
        "        fc_b = tf.zeros((10,))\n",
        "        params = [conv_w1, conv_b1, conv_w2, conv_b2, fc_w, fc_b]\n",
        "        scores = three_layer_convnet(x, params)\n",
        "\n",
        "    # Inputs to convolutional layers are 4-dimensional arrays with shape\n",
        "    # [batch_size, height, width, channels]\n",
        "    print('scores_np has shape: ', scores.shape)\n",
        "\n",
        "three_layer_convnet_test()"
      ]
    },
    {
      "cell_type": "markdown",
      "metadata": {
        "id": "4nYgFBrRTKDB"
      },
      "source": [
        "### Barebones TensorFlow: Training Step\n",
        "\n",
        "We now define the `training_step` function performs a single training step. This will take three basic steps:\n",
        "\n",
        "1. Compute the loss\n",
        "2. Compute the gradient of the loss with respect to all network weights\n",
        "3. Make a weight update step using (stochastic) gradient descent.\n",
        "\n",
        "\n",
        "We need to use a few new TensorFlow functions to do all of this:\n",
        "- For computing the cross-entropy loss we'll use `tf.nn.sparse_softmax_cross_entropy_with_logits`: https://www.tensorflow.org/versions/r2.0/api_docs/python/tf/nn/sparse_softmax_cross_entropy_with_logits\n",
        "\n",
        "- For averaging the loss across a minibatch of data we'll use `tf.reduce_mean`:\n",
        "https://www.tensorflow.org/versions/r2.0/api_docs/python/tf/reduce_mean\n",
        "\n",
        "- For computing gradients of the loss with respect to the weights we'll use `tf.GradientTape` (useful for Eager execution):  https://www.tensorflow.org/versions/r2.0/api_docs/python/tf/GradientTape\n",
        "\n",
        "- We'll mutate the weight values stored in a TensorFlow Tensor using `tf.assign_sub` (\"sub\" is for subtraction): https://www.tensorflow.org/api_docs/python/tf/assign_sub \n"
      ]
    },
    {
      "cell_type": "code",
      "execution_count": 12,
      "metadata": {
        "tags": [
          "pdf-ignore"
        ],
        "id": "qIB9HXVqTKDC"
      },
      "outputs": [],
      "source": [
        "def training_step(model_fn, x, y, params, learning_rate):\n",
        "    with tf.GradientTape() as tape:\n",
        "        scores = model_fn(x, params) # Forward pass of the model\n",
        "        loss = tf.nn.sparse_softmax_cross_entropy_with_logits(labels=y, logits=scores)\n",
        "        total_loss = tf.reduce_mean(loss)\n",
        "        grad_params = tape.gradient(total_loss, params)\n",
        "\n",
        "        # Make a vanilla gradient descent step on all of the model parameters\n",
        "        # Manually update the weights using assign_sub()\n",
        "        for w, grad_w in zip(params, grad_params):\n",
        "            w.assign_sub(learning_rate * grad_w)\n",
        "                        \n",
        "        return total_loss"
      ]
    },
    {
      "cell_type": "code",
      "execution_count": 13,
      "metadata": {
        "tags": [
          "pdf-ignore"
        ],
        "id": "7M7NMxKkTKDC"
      },
      "outputs": [],
      "source": [
        "def train_part2(model_fn, init_fn, learning_rate, epochs):\n",
        "    \"\"\"\n",
        "    Train a model on CIFAR-10.\n",
        "    \n",
        "    Inputs:\n",
        "    - model_fn: A Python function that performs the forward pass of the model\n",
        "      using TensorFlow; it should have the following signature:\n",
        "      scores = model_fn(x, params) where x is a TensorFlow Tensor giving a\n",
        "      minibatch of image data, params is a list of TensorFlow Tensors holding\n",
        "      the model weights, and scores is a TensorFlow Tensor of shape (N, C)\n",
        "      giving scores for all elements of x.\n",
        "    - init_fn: A Python function that initializes the parameters of the model.\n",
        "      It should have the signature params = init_fn() where params is a list\n",
        "      of TensorFlow Tensors holding the (randomly initialized) weights of the\n",
        "      model.\n",
        "    - learning_rate: Python float giving the learning rate to use for SGD.\n",
        "    \"\"\"\n",
        "    \n",
        "    \n",
        "    params = init_fn()  # Initialize the model parameters            \n",
        "    for e in range(epochs):    \n",
        "        for t, (x_np, y_np) in enumerate(train_dset):\n",
        "            # Run the graph on a batch of training data.\n",
        "            loss = training_step(model_fn, x_np, y_np, params, learning_rate)\n",
        "\n",
        "            # Periodically print the loss and check accuracy on the val set.\n",
        "            if t % print_every == 0:\n",
        "                print('Epoch %d, iteration %d, loss = %.4f' % (e, t, loss))\n",
        "                print('Validation:')\n",
        "                check_accuracy(val_dset, model_fn, params)\n",
        "    return params\n",
        "                "
      ]
    },
    {
      "cell_type": "code",
      "execution_count": 14,
      "metadata": {
        "tags": [
          "pdf-ignore"
        ],
        "id": "n11p8DadTKDC"
      },
      "outputs": [],
      "source": [
        "def check_accuracy(dset, model_fn, params):\n",
        "    \"\"\"\n",
        "    Check accuracy on a classification model, e.g. for validation.\n",
        "    \n",
        "    Inputs:\n",
        "    - dset: A Dataset object against which to check accuracy\n",
        "    - x: A TensorFlow placeholder Tensor where input images should be fed\n",
        "    - model_fn: the Model we will be calling to make predictions on x\n",
        "    - params: parameters for the model_fn to work with\n",
        "      \n",
        "    Returns: Nothing, but prints the accuracy of the model\n",
        "    \"\"\"\n",
        "    num_correct, num_samples = 0, 0\n",
        "    for x_batch, y_batch in dset:\n",
        "        scores_np = model_fn(x_batch, params).numpy()\n",
        "        y_pred = scores_np.argmax(axis=1)\n",
        "        num_samples += x_batch.shape[0]\n",
        "        num_correct += (y_pred == y_batch).sum()\n",
        "    acc = float(num_correct) / num_samples\n",
        "    print('     Got %d / %d correct (%.2f%%)' % (num_correct, num_samples, 100 * acc))"
      ]
    },
    {
      "cell_type": "markdown",
      "metadata": {
        "id": "ie7uYl-kTKDD"
      },
      "source": [
        "### Barebones TensorFlow: Initialization\n",
        "We'll use the following utility method to initialize the weight matrices for our models using Kaiming's normalization method.\n",
        "\n",
        "[1] He et al, *Delving Deep into Rectifiers: Surpassing Human-Level Performance on ImageNet Classification\n",
        "*, ICCV 2015, https://arxiv.org/abs/1502.01852"
      ]
    },
    {
      "cell_type": "code",
      "execution_count": 15,
      "metadata": {
        "id": "SUDrtqgkTKDD"
      },
      "outputs": [],
      "source": [
        "def create_matrix_with_kaiming_normal(shape):\n",
        "    if len(shape) == 2:\n",
        "        fan_in, fan_out = shape[0], shape[1]\n",
        "    elif len(shape) == 4:\n",
        "        fan_in, fan_out = np.prod(shape[:3]), shape[3]\n",
        "    return tf.keras.backend.random_normal(shape) * np.sqrt(2.0 / fan_in)"
      ]
    },
    {
      "cell_type": "markdown",
      "metadata": {
        "id": "O42v8NEmTKDD"
      },
      "source": [
        "### Barebones TensorFlow: Train a Two-Layer Network\n",
        "We are finally ready to use all of the pieces defined above to train a two-layer fully-connected network on CIFAR-10.\n",
        "\n",
        "We just need to define a function to initialize the weights of the model, and call `train_part2`.\n",
        "\n",
        "Defining the weights of the network introduces another important piece of TensorFlow API: `tf.Variable`. A TensorFlow Variable is a Tensor whose value is stored in the graph and persists across runs of the computational graph; however unlike constants defined with `tf.zeros` or `tf.random_normal`, the values of a Variable can be mutated as the graph runs; these mutations will persist across graph runs. Learnable parameters of the network are usually stored in Variables.\n",
        "\n",
        "You don't need to tune any hyperparameters, but you should achieve validation accuracies above 40% after one epoch of training."
      ]
    },
    {
      "cell_type": "code",
      "execution_count": 16,
      "metadata": {
        "jupyter": {
          "outputs_hidden": true
        },
        "colab": {
          "base_uri": "https://localhost:8080/"
        },
        "id": "fimRf0rXTKDD",
        "outputId": "88ddac8c-6a6d-474b-ee4c-18d1c6c528d3"
      },
      "outputs": [
        {
          "output_type": "stream",
          "name": "stdout",
          "text": [
            "Train\n",
            "Epoch 0, iteration 0, loss = 2.9019\n",
            "Validation:\n",
            "     Got 129 / 1000 correct (12.90%)\n",
            "Epoch 0, iteration 100, loss = 1.9698\n",
            "Validation:\n",
            "     Got 377 / 1000 correct (37.70%)\n",
            "Epoch 0, iteration 200, loss = 1.4673\n",
            "Validation:\n",
            "     Got 379 / 1000 correct (37.90%)\n",
            "Epoch 0, iteration 300, loss = 1.8486\n",
            "Validation:\n",
            "     Got 372 / 1000 correct (37.20%)\n",
            "Epoch 0, iteration 400, loss = 1.7917\n",
            "Validation:\n",
            "     Got 417 / 1000 correct (41.70%)\n",
            "Epoch 0, iteration 500, loss = 1.7963\n",
            "Validation:\n",
            "     Got 428 / 1000 correct (42.80%)\n",
            "Epoch 0, iteration 600, loss = 1.8919\n",
            "Validation:\n",
            "     Got 410 / 1000 correct (41.00%)\n",
            "Epoch 0, iteration 700, loss = 1.9839\n",
            "Validation:\n",
            "     Got 456 / 1000 correct (45.60%)\n",
            "Epoch 1, iteration 0, loss = 1.4299\n",
            "Validation:\n",
            "     Got 419 / 1000 correct (41.90%)\n",
            "Epoch 1, iteration 100, loss = 1.5471\n",
            "Validation:\n",
            "     Got 463 / 1000 correct (46.30%)\n",
            "Epoch 1, iteration 200, loss = 1.2183\n",
            "Validation:\n",
            "     Got 463 / 1000 correct (46.30%)\n",
            "Epoch 1, iteration 300, loss = 1.5598\n",
            "Validation:\n",
            "     Got 438 / 1000 correct (43.80%)\n",
            "Epoch 1, iteration 400, loss = 1.4505\n",
            "Validation:\n",
            "     Got 460 / 1000 correct (46.00%)\n",
            "Epoch 1, iteration 500, loss = 1.5956\n",
            "Validation:\n",
            "     Got 474 / 1000 correct (47.40%)\n",
            "Epoch 1, iteration 600, loss = 1.6539\n",
            "Validation:\n",
            "     Got 467 / 1000 correct (46.70%)\n",
            "Epoch 1, iteration 700, loss = 1.7114\n",
            "Validation:\n",
            "     Got 486 / 1000 correct (48.60%)\n",
            "Epoch 2, iteration 0, loss = 1.2729\n",
            "Validation:\n",
            "     Got 463 / 1000 correct (46.30%)\n",
            "Epoch 2, iteration 100, loss = 1.4337\n",
            "Validation:\n",
            "     Got 484 / 1000 correct (48.40%)\n",
            "Epoch 2, iteration 200, loss = 1.0798\n",
            "Validation:\n",
            "     Got 483 / 1000 correct (48.30%)\n",
            "Epoch 2, iteration 300, loss = 1.4339\n",
            "Validation:\n",
            "     Got 458 / 1000 correct (45.80%)\n",
            "Epoch 2, iteration 400, loss = 1.2792\n",
            "Validation:\n",
            "     Got 472 / 1000 correct (47.20%)\n",
            "Epoch 2, iteration 500, loss = 1.4709\n",
            "Validation:\n",
            "     Got 487 / 1000 correct (48.70%)\n",
            "Epoch 2, iteration 600, loss = 1.5152\n",
            "Validation:\n",
            "     Got 481 / 1000 correct (48.10%)\n",
            "Epoch 2, iteration 700, loss = 1.5553\n",
            "Validation:\n",
            "     Got 502 / 1000 correct (50.20%)\n",
            "Epoch 3, iteration 0, loss = 1.1672\n",
            "Validation:\n",
            "     Got 473 / 1000 correct (47.30%)\n",
            "Epoch 3, iteration 100, loss = 1.3358\n",
            "Validation:\n",
            "     Got 506 / 1000 correct (50.60%)\n",
            "Epoch 3, iteration 200, loss = 0.9838\n",
            "Validation:\n",
            "     Got 502 / 1000 correct (50.20%)\n",
            "Epoch 3, iteration 300, loss = 1.3365\n",
            "Validation:\n",
            "     Got 471 / 1000 correct (47.10%)\n",
            "Epoch 3, iteration 400, loss = 1.1569\n",
            "Validation:\n",
            "     Got 481 / 1000 correct (48.10%)\n",
            "Epoch 3, iteration 500, loss = 1.3767\n",
            "Validation:\n",
            "     Got 495 / 1000 correct (49.50%)\n",
            "Epoch 3, iteration 600, loss = 1.4029\n",
            "Validation:\n",
            "     Got 485 / 1000 correct (48.50%)\n",
            "Epoch 3, iteration 700, loss = 1.4421\n",
            "Validation:\n",
            "     Got 510 / 1000 correct (51.00%)\n",
            "Epoch 4, iteration 0, loss = 1.0853\n",
            "Validation:\n",
            "     Got 496 / 1000 correct (49.60%)\n",
            "Epoch 4, iteration 100, loss = 1.2581\n",
            "Validation:\n",
            "     Got 514 / 1000 correct (51.40%)\n",
            "Epoch 4, iteration 200, loss = 0.9075\n",
            "Validation:\n",
            "     Got 511 / 1000 correct (51.10%)\n",
            "Epoch 4, iteration 300, loss = 1.2471\n",
            "Validation:\n",
            "     Got 479 / 1000 correct (47.90%)\n",
            "Epoch 4, iteration 400, loss = 1.0516\n",
            "Validation:\n",
            "     Got 481 / 1000 correct (48.10%)\n",
            "Epoch 4, iteration 500, loss = 1.2953\n",
            "Validation:\n",
            "     Got 511 / 1000 correct (51.10%)\n",
            "Epoch 4, iteration 600, loss = 1.3149\n",
            "Validation:\n",
            "     Got 498 / 1000 correct (49.80%)\n",
            "Epoch 4, iteration 700, loss = 1.3396\n",
            "Validation:\n",
            "     Got 516 / 1000 correct (51.60%)\n",
            "Done!\n"
          ]
        }
      ],
      "source": [
        "def two_layer_fc_init():\n",
        "    \"\"\"\n",
        "    Initialize the weights of a two-layer network, for use with the\n",
        "    two_layer_network function defined above. \n",
        "    You can use the `create_matrix_with_kaiming_normal` helper!\n",
        "    \n",
        "    Inputs: None\n",
        "    \n",
        "    Returns: A list of:\n",
        "    - w1: TensorFlow tf.Variable giving the weights for the first layer\n",
        "    - w2: TensorFlow tf.Variable giving the weights for the second layer\n",
        "    \"\"\"\n",
        "    hidden_layer_size = 4000\n",
        "    w1 = tf.Variable(create_matrix_with_kaiming_normal((3 * 32 * 32, 4000)))\n",
        "    w2 = tf.Variable(create_matrix_with_kaiming_normal((4000, 10)))\n",
        "    return [w1, w2]\n",
        "\n",
        "learning_rate = 1e-2\n",
        "print('Train')\n",
        "trained_params = train_part2(two_layer_fc, two_layer_fc_init, learning_rate,5)\n",
        "print('Done!')"
      ]
    },
    {
      "cell_type": "markdown",
      "metadata": {
        "id": "S1tQ34EITKDE"
      },
      "source": [
        "### Test Set - DO THIS ONLY ONCE\n",
        "Now that we've gotten a result that we're happy with, we test our final model on the test set. This would be the score we would achieve on a competition. Think about how this compares to your validation set accuracy."
      ]
    },
    {
      "cell_type": "code",
      "execution_count": 17,
      "metadata": {
        "colab": {
          "base_uri": "https://localhost:8080/"
        },
        "id": "_UNi5WFWTKDE",
        "outputId": "01470522-112c-424f-b48a-dcd25f9be17d"
      },
      "outputs": [
        {
          "output_type": "stream",
          "name": "stdout",
          "text": [
            "Test\n",
            "     Got 5031 / 10000 correct (50.31%)\n"
          ]
        }
      ],
      "source": [
        "print('Test')\n",
        "check_accuracy(test_dset, two_layer_fc, trained_params)"
      ]
    },
    {
      "cell_type": "markdown",
      "metadata": {
        "id": "lKS_Mb8NTKDE"
      },
      "source": [
        "### Barebones TensorFlow: Train a three-layer ConvNet\n",
        "We will now use TensorFlow to train a three-layer ConvNet on CIFAR-10.\n",
        "\n",
        "You need to implement the `three_layer_convnet_init` function. Recall that the architecture of the network is:\n",
        "\n",
        "1. Convolutional layer (with bias) with 32 5x5 filters, with zero-padding 2\n",
        "2. ReLU\n",
        "3. Convolutional layer (with bias) with 16 3x3 filters, with zero-padding 1\n",
        "4. ReLU\n",
        "5. Fully-connected layer (with bias) to compute scores for 10 classes\n",
        "\n",
        "You don't need to do any hyperparameter tuning, but you should see validation accuracies above 43% after one epoch of training."
      ]
    },
    {
      "cell_type": "code",
      "execution_count": 18,
      "metadata": {
        "colab": {
          "base_uri": "https://localhost:8080/"
        },
        "id": "nv5VrN2gTKDE",
        "outputId": "e7c9f64e-ba47-4653-89f9-eeef956e63d4"
      },
      "outputs": [
        {
          "output_type": "stream",
          "name": "stdout",
          "text": [
            "Epoch 0, iteration 0, loss = 2.8333\n",
            "Validation:\n",
            "     Got 102 / 1000 correct (10.20%)\n",
            "Epoch 0, iteration 100, loss = 1.8097\n",
            "Validation:\n",
            "     Got 357 / 1000 correct (35.70%)\n",
            "Epoch 0, iteration 200, loss = 1.5722\n",
            "Validation:\n",
            "     Got 401 / 1000 correct (40.10%)\n",
            "Epoch 0, iteration 300, loss = 1.6946\n",
            "Validation:\n",
            "     Got 384 / 1000 correct (38.40%)\n",
            "Epoch 0, iteration 400, loss = 1.5946\n",
            "Validation:\n",
            "     Got 422 / 1000 correct (42.20%)\n",
            "Epoch 0, iteration 500, loss = 1.8040\n",
            "Validation:\n",
            "     Got 439 / 1000 correct (43.90%)\n",
            "Epoch 0, iteration 600, loss = 1.6065\n",
            "Validation:\n",
            "     Got 458 / 1000 correct (45.80%)\n",
            "Epoch 0, iteration 700, loss = 1.6987\n",
            "Validation:\n",
            "     Got 456 / 1000 correct (45.60%)\n",
            "Epoch 1, iteration 0, loss = 1.4548\n",
            "Validation:\n",
            "     Got 463 / 1000 correct (46.30%)\n",
            "Epoch 1, iteration 100, loss = 1.3758\n",
            "Validation:\n",
            "     Got 476 / 1000 correct (47.60%)\n",
            "Epoch 1, iteration 200, loss = 1.3197\n",
            "Validation:\n",
            "     Got 482 / 1000 correct (48.20%)\n",
            "Epoch 1, iteration 300, loss = 1.4849\n",
            "Validation:\n",
            "     Got 463 / 1000 correct (46.30%)\n",
            "Epoch 1, iteration 400, loss = 1.3761\n",
            "Validation:\n",
            "     Got 488 / 1000 correct (48.80%)\n",
            "Epoch 1, iteration 500, loss = 1.6498\n",
            "Validation:\n",
            "     Got 490 / 1000 correct (49.00%)\n",
            "Epoch 1, iteration 600, loss = 1.4211\n",
            "Validation:\n",
            "     Got 493 / 1000 correct (49.30%)\n",
            "Epoch 1, iteration 700, loss = 1.5215\n",
            "Validation:\n",
            "     Got 495 / 1000 correct (49.50%)\n",
            "Epoch 2, iteration 0, loss = 1.2980\n",
            "Validation:\n",
            "     Got 502 / 1000 correct (50.20%)\n",
            "Epoch 2, iteration 100, loss = 1.2949\n",
            "Validation:\n",
            "     Got 511 / 1000 correct (51.10%)\n",
            "Epoch 2, iteration 200, loss = 1.1905\n",
            "Validation:\n",
            "     Got 510 / 1000 correct (51.00%)\n",
            "Epoch 2, iteration 300, loss = 1.4082\n",
            "Validation:\n",
            "     Got 496 / 1000 correct (49.60%)\n",
            "Epoch 2, iteration 400, loss = 1.2419\n",
            "Validation:\n",
            "     Got 530 / 1000 correct (53.00%)\n",
            "Epoch 2, iteration 500, loss = 1.5248\n",
            "Validation:\n",
            "     Got 514 / 1000 correct (51.40%)\n",
            "Epoch 2, iteration 600, loss = 1.3304\n",
            "Validation:\n",
            "     Got 519 / 1000 correct (51.90%)\n",
            "Epoch 2, iteration 700, loss = 1.4174\n",
            "Validation:\n",
            "     Got 523 / 1000 correct (52.30%)\n",
            "Epoch 3, iteration 0, loss = 1.2173\n",
            "Validation:\n",
            "     Got 527 / 1000 correct (52.70%)\n",
            "Epoch 3, iteration 100, loss = 1.2274\n",
            "Validation:\n",
            "     Got 524 / 1000 correct (52.40%)\n",
            "Epoch 3, iteration 200, loss = 1.0875\n",
            "Validation:\n",
            "     Got 540 / 1000 correct (54.00%)\n",
            "Epoch 3, iteration 300, loss = 1.3306\n",
            "Validation:\n",
            "     Got 505 / 1000 correct (50.50%)\n",
            "Epoch 3, iteration 400, loss = 1.1465\n",
            "Validation:\n",
            "     Got 551 / 1000 correct (55.10%)\n",
            "Epoch 3, iteration 500, loss = 1.4311\n",
            "Validation:\n",
            "     Got 526 / 1000 correct (52.60%)\n",
            "Epoch 3, iteration 600, loss = 1.2718\n",
            "Validation:\n",
            "     Got 541 / 1000 correct (54.10%)\n",
            "Epoch 3, iteration 700, loss = 1.3485\n",
            "Validation:\n",
            "     Got 539 / 1000 correct (53.90%)\n",
            "Epoch 4, iteration 0, loss = 1.1460\n",
            "Validation:\n",
            "     Got 539 / 1000 correct (53.90%)\n",
            "Epoch 4, iteration 100, loss = 1.1547\n",
            "Validation:\n",
            "     Got 546 / 1000 correct (54.60%)\n",
            "Epoch 4, iteration 200, loss = 1.0146\n",
            "Validation:\n",
            "     Got 559 / 1000 correct (55.90%)\n",
            "Epoch 4, iteration 300, loss = 1.2514\n",
            "Validation:\n",
            "     Got 524 / 1000 correct (52.40%)\n",
            "Epoch 4, iteration 400, loss = 1.0771\n",
            "Validation:\n",
            "     Got 562 / 1000 correct (56.20%)\n",
            "Epoch 4, iteration 500, loss = 1.3554\n",
            "Validation:\n",
            "     Got 542 / 1000 correct (54.20%)\n",
            "Epoch 4, iteration 600, loss = 1.2248\n",
            "Validation:\n",
            "     Got 554 / 1000 correct (55.40%)\n",
            "Epoch 4, iteration 700, loss = 1.2907\n",
            "Validation:\n",
            "     Got 559 / 1000 correct (55.90%)\n"
          ]
        },
        {
          "output_type": "execute_result",
          "data": {
            "text/plain": [
              "[<tf.Variable 'Variable:0' shape=(5, 5, 3, 32) dtype=float32, numpy=\n",
              " array([[[[-1.82376012e-01, -1.16499506e-01, -2.89001107e-01, ...,\n",
              "            1.80102006e-01,  7.45004043e-02,  1.04769334e-01],\n",
              "          [-1.58796042e-01, -6.63337931e-02, -1.04607664e-01, ...,\n",
              "           -1.61007270e-01, -3.24824788e-02, -5.88635206e-02],\n",
              "          [-3.92383598e-02,  1.37041315e-01,  1.76812425e-01, ...,\n",
              "            1.39688209e-01, -7.81251192e-02, -1.12819321e-01]],\n",
              " \n",
              "         [[ 8.99361446e-02, -4.75114584e-02, -1.02250138e-02, ...,\n",
              "            5.40988930e-02,  3.21790814e-01, -1.18907485e-02],\n",
              "          [ 6.35118857e-02,  1.83370590e-01,  1.84425816e-01, ...,\n",
              "           -1.99806258e-01,  4.36662994e-02, -1.40726998e-01],\n",
              "          [-1.15132459e-01, -5.55837876e-04, -1.05779968e-01, ...,\n",
              "           -1.01629585e-01,  3.13508153e-01, -8.24668631e-02]],\n",
              " \n",
              "         [[-2.47301292e-02,  7.69367442e-02,  9.32900310e-02, ...,\n",
              "            3.10356230e-01, -9.85670686e-02,  9.21309739e-02],\n",
              "          [ 1.03305310e-01, -2.42049903e-01,  1.42588243e-01, ...,\n",
              "            1.30136535e-01, -5.11717573e-02,  6.93631843e-02],\n",
              "          [-3.38404961e-02, -7.91393518e-02, -6.82483017e-02, ...,\n",
              "            1.34428501e-01, -2.07948312e-01,  4.64133590e-01]],\n",
              " \n",
              "         [[ 3.30425769e-01, -2.59261131e-01,  5.92424907e-02, ...,\n",
              "           -1.04326345e-01,  4.73510064e-02, -1.50658814e-02],\n",
              "          [-6.88144267e-02, -8.64988342e-02, -1.42063662e-01, ...,\n",
              "            4.46145743e-01,  3.30793373e-02, -1.86309721e-02],\n",
              "          [-5.58256637e-03, -8.79172683e-02, -2.87915915e-01, ...,\n",
              "            2.13202924e-01,  8.40117484e-02, -8.62873495e-02]],\n",
              " \n",
              "         [[-5.15644327e-02, -1.18153520e-01,  4.70828749e-02, ...,\n",
              "            1.22708216e-01,  1.58619583e-01, -4.95793717e-03],\n",
              "          [ 2.57944942e-01,  1.41899046e-02, -2.23453179e-01, ...,\n",
              "            5.13692386e-02, -4.19980809e-02, -1.15334727e-01],\n",
              "          [ 2.19463587e-01,  6.27514645e-02, -1.47124693e-01, ...,\n",
              "            4.34186645e-02, -9.56819132e-02,  1.77152440e-01]]],\n",
              " \n",
              " \n",
              "        [[[ 9.16620865e-02,  8.39487538e-02, -1.23445109e-01, ...,\n",
              "            8.46993998e-02, -2.42210850e-01,  9.81923565e-02],\n",
              "          [-1.96993947e-02, -1.27415583e-01,  8.44790637e-02, ...,\n",
              "            3.94165050e-03,  1.88592166e-01,  2.36461163e-02],\n",
              "          [-8.52218047e-02,  3.30328166e-01, -6.71239495e-02, ...,\n",
              "            2.20843464e-01, -8.58190209e-02,  2.92774200e-01]],\n",
              " \n",
              "         [[ 1.18704475e-01,  1.63749054e-01,  1.03332149e-02, ...,\n",
              "           -1.51698023e-01,  2.28419993e-02,  3.07275597e-02],\n",
              "          [ 6.36790618e-02, -1.22106671e-02, -5.70635647e-02, ...,\n",
              "           -2.19996825e-01, -7.05332309e-02, -3.63048427e-02],\n",
              "          [-2.11618319e-01,  2.42461208e-02, -3.15923572e-01, ...,\n",
              "           -2.26654857e-01, -2.36964524e-01,  1.25360981e-01]],\n",
              " \n",
              "         [[ 4.45236191e-02, -7.61580840e-02,  1.50848240e-01, ...,\n",
              "           -1.88133940e-01, -1.04773799e-02, -2.79715598e-01],\n",
              "          [-1.96501449e-01, -1.36494726e-01, -4.84059639e-02, ...,\n",
              "            2.68041193e-01, -4.34228359e-03,  9.77512635e-03],\n",
              "          [-6.52554110e-02, -1.88833967e-01, -2.37619773e-01, ...,\n",
              "            4.22994718e-02, -1.90120533e-01,  2.76147783e-01]],\n",
              " \n",
              "         [[ 1.08030856e-01,  2.86781620e-02,  3.10303509e-01, ...,\n",
              "           -1.57049507e-01,  5.60971916e-01,  1.57001484e-02],\n",
              "          [ 2.53291845e-01,  4.82908562e-02,  1.68851957e-01, ...,\n",
              "            3.46138507e-01,  1.30589819e-02,  1.43379718e-01],\n",
              "          [ 1.22660026e-01,  2.66624421e-01, -2.20997289e-01, ...,\n",
              "            6.02216423e-02,  1.14151891e-02, -1.86774895e-01]],\n",
              " \n",
              "         [[-8.78170505e-02,  1.88727573e-01, -2.84048349e-01, ...,\n",
              "           -6.60559833e-02,  1.04315154e-01, -1.24838412e-01],\n",
              "          [ 7.47984350e-02,  1.99468173e-02,  3.39549661e-01, ...,\n",
              "           -3.45834672e-01, -3.34572867e-02,  1.31369054e-01],\n",
              "          [-1.92966416e-01,  1.45840153e-01,  6.17467351e-02, ...,\n",
              "            1.06031343e-01, -4.91908230e-02, -2.95672774e-01]]],\n",
              " \n",
              " \n",
              "        [[[ 1.19376546e-02,  3.00021023e-01, -4.65161622e-01, ...,\n",
              "            4.41415235e-03, -3.73210609e-01, -2.51940161e-01],\n",
              "          [ 1.27239555e-01, -1.23465873e-01,  3.61682586e-02, ...,\n",
              "            2.85409354e-02,  4.06331643e-02, -3.18893433e-01],\n",
              "          [ 2.36843511e-01,  1.09934777e-01, -2.22835928e-01, ...,\n",
              "            2.60437578e-01, -5.11154942e-02,  1.14220910e-01]],\n",
              " \n",
              "         [[-1.19210230e-02, -4.67983671e-02, -1.48107663e-01, ...,\n",
              "            1.54212713e-01, -2.43258685e-01, -6.37958646e-02],\n",
              "          [ 3.13994638e-03, -6.66847974e-02, -1.45003274e-01, ...,\n",
              "            2.85974145e-01,  4.57903147e-02, -2.60103434e-01],\n",
              "          [-3.32038313e-01, -1.02574207e-01,  1.09235771e-01, ...,\n",
              "           -2.21778989e-01, -6.47632871e-03,  1.00554883e-01]],\n",
              " \n",
              "         [[ 2.70839632e-01,  1.90964580e-01, -1.93413675e-01, ...,\n",
              "           -1.92361474e-01, -6.61165938e-02,  3.32962573e-02],\n",
              "          [-1.27935320e-01, -1.57319844e-01, -4.44072299e-02, ...,\n",
              "            1.21240675e-01, -3.85534540e-02,  2.20748186e-01],\n",
              "          [ 1.85107291e-01,  9.87477526e-02, -1.10381357e-01, ...,\n",
              "            8.31535682e-02, -1.67733714e-01,  6.61183596e-02]],\n",
              " \n",
              "         [[-3.17465924e-02, -3.01953644e-01, -2.25465745e-02, ...,\n",
              "            1.39122292e-01, -1.65913582e-01,  2.22021729e-01],\n",
              "          [ 2.26309806e-01,  1.48236230e-02,  4.89113480e-02, ...,\n",
              "           -1.74627528e-01,  2.07929298e-01,  8.62476379e-02],\n",
              "          [ 8.47493559e-02, -1.80960894e-01,  2.08272532e-01, ...,\n",
              "           -8.62882733e-02, -5.26563078e-02,  1.78029671e-01]],\n",
              " \n",
              "         [[-7.11754039e-02,  5.57977445e-02, -3.20834219e-02, ...,\n",
              "           -5.95857687e-02,  1.47810534e-01, -4.67129983e-04],\n",
              "          [ 1.19894043e-01, -4.01970707e-02,  1.61254182e-01, ...,\n",
              "           -3.90681177e-02,  7.55669251e-02, -4.23486810e-03],\n",
              "          [ 7.36408830e-02, -3.47333332e-03,  2.04184592e-01, ...,\n",
              "            9.14904699e-02, -1.86731294e-01, -1.90739892e-02]]],\n",
              " \n",
              " \n",
              "        [[[-2.36815140e-01, -2.27124080e-01, -4.40149717e-02, ...,\n",
              "           -1.97436243e-01,  4.73866053e-02,  2.40480393e-01],\n",
              "          [-1.20686837e-01, -1.31338745e-01, -3.28015611e-02, ...,\n",
              "           -6.99974671e-02, -1.57265976e-01, -7.93068260e-02],\n",
              "          [-5.27633317e-02,  1.22772522e-01, -1.15532815e-01, ...,\n",
              "            1.28432274e-01, -2.89450437e-01,  5.23037873e-02]],\n",
              " \n",
              "         [[ 1.08021662e-01,  1.38057873e-01, -2.67393626e-02, ...,\n",
              "            1.36204287e-01,  4.81438488e-02, -2.50694245e-01],\n",
              "          [-1.44868478e-01, -2.95524329e-01,  1.88835353e-01, ...,\n",
              "            1.26230568e-01,  1.25586510e-01,  1.69967934e-01],\n",
              "          [ 1.39355659e-01,  1.84003547e-01,  1.14965839e-02, ...,\n",
              "            2.94760317e-01,  8.44566897e-02, -1.46250486e-01]],\n",
              " \n",
              "         [[ 2.20322430e-01,  3.75287950e-01,  1.15106806e-01, ...,\n",
              "           -2.46200606e-01, -1.68422997e-01, -1.23275749e-01],\n",
              "          [ 1.83085591e-01,  1.18382871e-01, -4.46853898e-02, ...,\n",
              "           -5.38489968e-02, -1.91725746e-01,  8.73193592e-02],\n",
              "          [-2.17867106e-01,  1.11845687e-01,  1.97969422e-01, ...,\n",
              "            6.41971678e-02,  6.76590353e-02, -1.45676970e-01]],\n",
              " \n",
              "         [[ 1.50483027e-01, -1.34314716e-01, -1.07975618e-03, ...,\n",
              "           -1.11513615e-01, -3.56389880e-02, -3.18099916e-01],\n",
              "          [-5.80180623e-02, -3.34185436e-02, -1.81626230e-02, ...,\n",
              "           -7.34780282e-02, -1.52694196e-01, -3.88629884e-02],\n",
              "          [-8.17650743e-03,  1.61296781e-02, -2.78094620e-01, ...,\n",
              "            2.14926302e-01,  3.21196765e-01,  1.40898218e-02]],\n",
              " \n",
              "         [[-1.03307739e-01, -4.30214731e-03,  1.79736391e-01, ...,\n",
              "           -1.55640021e-01, -2.27450535e-01, -2.49097079e-01],\n",
              "          [-1.16397962e-01,  1.27166882e-01,  1.28209949e-01, ...,\n",
              "            2.21924096e-01, -3.63450684e-02,  3.06031648e-02],\n",
              "          [ 4.15480286e-02,  4.29536738e-02,  5.12696445e-01, ...,\n",
              "           -1.15180090e-02, -2.99223494e-02, -1.19734168e-01]]],\n",
              " \n",
              " \n",
              "        [[[ 2.78807998e-01, -4.40628052e-01, -2.49937028e-01, ...,\n",
              "           -1.25613892e-02,  1.70520842e-01, -1.71278194e-01],\n",
              "          [ 1.33866757e-01,  1.28044114e-01,  5.21367043e-03, ...,\n",
              "           -1.58882543e-01, -2.48362664e-02,  8.57202634e-02],\n",
              "          [ 7.57201687e-02,  2.58857571e-03,  4.75637764e-02, ...,\n",
              "           -1.08057238e-01, -5.93325347e-02, -9.50444490e-02]],\n",
              " \n",
              "         [[-2.88358867e-01,  1.85756817e-01,  1.16211802e-01, ...,\n",
              "            8.32065865e-02, -2.08942667e-01, -1.68816932e-02],\n",
              "          [ 2.73998201e-01,  1.80451676e-01, -2.22954452e-01, ...,\n",
              "           -1.62635699e-01,  1.76997054e-02, -2.23343205e-02],\n",
              "          [-3.43503617e-03,  2.42750406e-01,  6.62713945e-02, ...,\n",
              "           -1.28321260e-01, -1.35483906e-01,  1.45171553e-01]],\n",
              " \n",
              "         [[-1.59439459e-01,  1.24868289e-01,  1.68443955e-02, ...,\n",
              "            1.15770116e-01,  9.71550271e-02, -1.24493949e-01],\n",
              "          [ 4.14104313e-02, -2.05680043e-01, -1.15220055e-01, ...,\n",
              "            1.32074999e-02, -1.38782099e-01, -2.65107393e-01],\n",
              "          [-9.95843858e-02, -2.22605675e-01,  1.50954816e-02, ...,\n",
              "           -1.83399916e-01, -8.82820338e-02, -7.80569166e-02]],\n",
              " \n",
              "         [[-1.88472625e-02,  1.06376093e-02, -7.67063275e-02, ...,\n",
              "           -9.47732031e-02, -6.27449751e-02,  7.30445087e-02],\n",
              "          [-5.40048666e-02, -1.05427824e-01, -1.12013593e-01, ...,\n",
              "            5.35546467e-02, -1.88495070e-01,  8.03119093e-02],\n",
              "          [-4.17484231e-02, -3.26667055e-02, -4.94033322e-02, ...,\n",
              "            7.12831393e-02, -1.15974948e-01,  9.18687433e-02]],\n",
              " \n",
              "         [[-5.73588051e-02, -1.15589509e-02, -1.54977348e-02, ...,\n",
              "           -3.46665792e-02,  1.70073807e-02, -5.96701540e-02],\n",
              "          [ 9.31120366e-02, -2.83414662e-01,  4.15564096e-03, ...,\n",
              "            7.06035122e-02,  1.68531612e-01,  1.04466237e-01],\n",
              "          [ 1.03735216e-02, -4.38942090e-02, -2.72724867e-01, ...,\n",
              "           -1.26918346e-01,  1.08555388e-02, -3.43305282e-02]]]],\n",
              "       dtype=float32)>,\n",
              " <tf.Variable 'Variable:0' shape=(32,) dtype=float32, numpy=\n",
              " array([ 0.030654  , -0.03033101,  0.10604278,  0.04191033, -0.01282217,\n",
              "        -0.00670982,  0.04937858,  0.04495587, -0.00187986, -0.05331813,\n",
              "        -0.04609378, -0.03566115,  0.17003551, -0.01515828,  0.12249916,\n",
              "         0.01672409, -0.08082301,  0.02343768, -0.04136088, -0.01870547,\n",
              "         0.06196044, -0.02115411, -0.04625028, -0.078941  ,  0.03558908,\n",
              "        -0.03122731, -0.0350037 ,  0.06499894, -0.02868987, -0.03417744,\n",
              "         0.01072402,  0.0291394 ], dtype=float32)>,\n",
              " <tf.Variable 'Variable:0' shape=(3, 3, 32, 16) dtype=float32, numpy=\n",
              " array([[[[-1.11303173e-01, -1.23595238e-01, -7.47216046e-02, ...,\n",
              "            1.19905667e-02,  8.58981162e-03, -3.24926935e-02],\n",
              "          [-9.19939056e-02, -5.84871043e-03, -1.51565433e-01, ...,\n",
              "           -6.44820556e-02, -7.95429759e-03,  6.01782203e-02],\n",
              "          [-8.06021243e-02,  9.19612944e-02, -4.39822301e-02, ...,\n",
              "           -4.68111858e-02,  1.14495210e-01, -4.98418659e-02],\n",
              "          ...,\n",
              "          [ 1.78223759e-01, -4.19390947e-03, -8.75505656e-02, ...,\n",
              "           -6.06078133e-02, -6.33530542e-02, -2.35301685e-02],\n",
              "          [ 3.63525189e-02,  6.90695737e-03, -8.37525725e-02, ...,\n",
              "            3.56701650e-02,  3.03468183e-02,  1.11983016e-01],\n",
              "          [ 9.79857426e-03,  4.84777018e-02, -1.24393262e-01, ...,\n",
              "           -3.23143303e-02, -2.16355640e-02,  3.53544764e-02]],\n",
              " \n",
              "         [[-2.32781097e-03, -1.51534706e-01, -2.59258058e-02, ...,\n",
              "            8.03549141e-02,  2.04179762e-03,  1.69953164e-02],\n",
              "          [-1.28371462e-01, -8.17679986e-02,  6.99971989e-02, ...,\n",
              "            1.09322831e-01, -8.58710334e-03,  8.41461420e-02],\n",
              "          [-4.84549701e-02,  4.93296422e-02, -9.10502449e-02, ...,\n",
              "            4.93400469e-02,  3.87284532e-02,  1.78829096e-02],\n",
              "          ...,\n",
              "          [ 8.90409350e-02,  2.22989861e-02, -4.53558415e-02, ...,\n",
              "           -3.35622020e-02,  3.52700353e-02, -5.85678592e-02],\n",
              "          [-3.37422229e-02,  6.30986840e-02,  4.85081896e-02, ...,\n",
              "            2.12093126e-02, -3.50534022e-02, -8.94425213e-02],\n",
              "          [ 9.40033570e-02, -2.24169806e-01, -6.21445291e-02, ...,\n",
              "            1.42679706e-01,  2.25786287e-02, -1.13103047e-01]],\n",
              " \n",
              "         [[ 1.18264720e-01, -2.86668073e-02,  7.97452964e-03, ...,\n",
              "           -2.33640056e-02,  4.34462912e-03, -1.10279359e-02],\n",
              "          [-1.32405058e-01, -1.10017098e-01, -2.22966671e-02, ...,\n",
              "            5.14292419e-02, -2.62644202e-01, -1.26131028e-02],\n",
              "          [-4.12802473e-02, -9.61526334e-02, -6.74582571e-02, ...,\n",
              "           -1.13291979e-01,  4.49280888e-02, -5.51237203e-02],\n",
              "          ...,\n",
              "          [-4.05924208e-02,  2.18250919e-02,  7.30309933e-02, ...,\n",
              "            4.15960141e-02,  8.16925839e-02, -4.03280780e-02],\n",
              "          [ 5.57434596e-02,  5.42679392e-02, -2.16986779e-02, ...,\n",
              "           -8.49748030e-02,  1.17617771e-02, -1.33604333e-01],\n",
              "          [ 8.51311255e-03, -2.65217517e-02,  4.05785831e-05, ...,\n",
              "           -8.64235088e-02,  3.50815989e-02, -8.61482322e-02]]],\n",
              " \n",
              " \n",
              "        [[[-1.12794362e-01,  8.99093300e-02, -2.22041104e-02, ...,\n",
              "           -1.88361369e-02, -2.33405288e-02,  1.44863604e-02],\n",
              "          [-4.39940207e-02,  9.02900472e-03,  4.19534743e-02, ...,\n",
              "            2.19567977e-02, -1.87249146e-02, -2.03221049e-02],\n",
              "          [-1.77567322e-02,  1.40668690e-01, -4.17376906e-02, ...,\n",
              "            5.75211681e-02, -5.40110059e-02,  6.27415329e-02],\n",
              "          ...,\n",
              "          [-7.01093525e-02,  5.38582541e-02, -7.90119916e-02, ...,\n",
              "            7.81273693e-02, -1.28107712e-01,  2.43576504e-02],\n",
              "          [ 1.40939072e-01, -1.39461607e-01,  4.33527939e-02, ...,\n",
              "            1.29168347e-01, -4.14738469e-02, -4.82876506e-03],\n",
              "          [-1.32099865e-02, -1.34592295e-01,  7.87833035e-02, ...,\n",
              "            2.67456230e-02,  7.70591348e-02, -1.59552589e-01]],\n",
              " \n",
              "         [[-7.54207447e-02, -1.57890096e-02, -3.07588303e-03, ...,\n",
              "           -2.14264896e-02, -1.32367283e-01,  8.76251794e-03],\n",
              "          [-2.32176799e-02,  1.47550916e-02,  6.53014854e-02, ...,\n",
              "            5.42702712e-02,  8.84127393e-02, -6.05203137e-02],\n",
              "          [ 5.38521893e-02, -1.12524003e-01,  1.46429418e-02, ...,\n",
              "           -1.14367716e-02,  1.03134930e-01,  7.88262412e-02],\n",
              "          ...,\n",
              "          [ 2.37370413e-02, -1.64076149e-01,  4.37369347e-02, ...,\n",
              "            1.29342213e-01,  4.07671891e-02, -1.19416714e-01],\n",
              "          [ 9.63632464e-02,  2.14473624e-02,  6.60694316e-02, ...,\n",
              "           -1.68718219e-01,  3.39375362e-02,  2.59653106e-02],\n",
              "          [ 4.93493862e-02, -7.45617449e-02, -6.20945953e-02, ...,\n",
              "            7.51296878e-02, -1.03197269e-01,  3.25241201e-02]],\n",
              " \n",
              "         [[-9.12672356e-02, -1.38072386e-01, -1.22630082e-01, ...,\n",
              "           -2.74984017e-02,  5.54989874e-02,  7.19198957e-02],\n",
              "          [ 8.42604861e-02, -1.20091431e-01,  9.03447419e-02, ...,\n",
              "            1.02765458e-02,  1.17625125e-01, -4.45520841e-02],\n",
              "          [ 1.98493674e-02,  6.01217039e-02, -2.65780259e-02, ...,\n",
              "            4.14946191e-02,  1.84740886e-01, -7.85895959e-02],\n",
              "          ...,\n",
              "          [-9.91286784e-02,  5.67224212e-02,  3.05534992e-02, ...,\n",
              "            3.71985920e-02, -2.67915223e-02, -3.41360793e-02],\n",
              "          [-1.08484337e-02, -8.95891711e-02, -3.23012769e-02, ...,\n",
              "           -9.86675695e-02,  2.26580426e-02,  9.96877402e-02],\n",
              "          [-8.73696953e-02, -4.42319587e-02, -2.14008503e-02, ...,\n",
              "           -1.62791386e-02, -5.45896217e-02,  4.19870019e-02]]],\n",
              " \n",
              " \n",
              "        [[[ 1.00839451e-01, -1.26546487e-01, -1.59857143e-02, ...,\n",
              "           -1.19894341e-01,  3.04539548e-03,  8.75282809e-02],\n",
              "          [ 8.50138888e-02,  2.28054583e-01, -4.38535549e-02, ...,\n",
              "           -4.61961590e-02,  1.59477383e-01, -4.35898788e-02],\n",
              "          [-1.85495038e-02,  9.33197066e-02,  2.72505563e-02, ...,\n",
              "           -7.79247507e-02,  1.37017101e-01,  2.10629422e-02],\n",
              "          ...,\n",
              "          [ 7.69025907e-02, -1.98459193e-01,  1.07177675e-01, ...,\n",
              "            9.83154327e-02,  1.75366886e-02, -1.18827559e-01],\n",
              "          [ 1.10636055e-02, -8.01599622e-02,  1.08277567e-01, ...,\n",
              "            5.84253371e-02, -2.86814179e-02, -1.09748393e-01],\n",
              "          [ 5.66959232e-02,  6.95325285e-02, -1.05934097e-02, ...,\n",
              "            7.14330608e-03, -3.36364955e-02, -2.63508596e-02]],\n",
              " \n",
              "         [[ 1.10238418e-01, -2.30308816e-01, -8.17090422e-02, ...,\n",
              "           -1.43117219e-01,  5.15487324e-03,  8.33464786e-02],\n",
              "          [ 1.16910547e-01, -5.78194335e-02, -5.86203039e-02, ...,\n",
              "           -1.14569239e-01, -1.80758387e-02, -2.99537554e-02],\n",
              "          [-2.41335910e-02, -1.33937120e-01, -3.05723231e-02, ...,\n",
              "            3.34758870e-02, -7.81633109e-02,  6.16040565e-02],\n",
              "          ...,\n",
              "          [ 4.14774939e-02,  6.27994537e-02, -1.15808407e-02, ...,\n",
              "           -2.97918040e-02, -5.08725829e-02, -6.45454973e-02],\n",
              "          [-2.77635884e-02,  7.33372122e-02,  1.28014520e-01, ...,\n",
              "            1.02911334e-04, -1.89370345e-02,  5.55121489e-02],\n",
              "          [ 5.83918728e-02,  1.79002155e-02,  6.72740340e-02, ...,\n",
              "            1.16303720e-01, -4.53490093e-02, -6.47166371e-02]],\n",
              " \n",
              "         [[-4.84779589e-02,  1.18167818e-01, -6.81826621e-02, ...,\n",
              "           -1.54655869e-03,  1.02144917e-02, -4.43228148e-02],\n",
              "          [ 3.15280408e-02,  1.91646293e-02,  3.71399708e-02, ...,\n",
              "            1.13441003e-02, -1.12539336e-01,  9.90665331e-02],\n",
              "          [-1.31019041e-01, -7.80765936e-02,  1.43392589e-02, ...,\n",
              "            3.31347138e-02, -2.46816482e-02, -1.88521426e-02],\n",
              "          ...,\n",
              "          [-5.41502349e-02, -8.30080733e-02,  7.79685797e-03, ...,\n",
              "           -1.22991957e-01,  2.75636893e-02, -1.96390972e-03],\n",
              "          [-8.59685764e-02, -1.39521003e-01,  1.27346441e-01, ...,\n",
              "           -3.26453373e-02, -8.49265680e-02, -5.42082898e-02],\n",
              "          [ 1.49581775e-01,  7.58221075e-02,  1.35709628e-01, ...,\n",
              "            6.41532317e-02,  2.30376255e-02,  2.39202548e-02]]]],\n",
              "       dtype=float32)>,\n",
              " <tf.Variable 'Variable:0' shape=(16,) dtype=float32, numpy=\n",
              " array([ 0.02889823, -0.00175496, -0.08058665, -0.12234651,  0.24427038,\n",
              "        -0.00532742,  0.03002814,  0.0877802 ,  0.06859544, -0.05072926,\n",
              "         0.03241796,  0.05238623,  0.03449785, -0.01221974,  0.0801267 ,\n",
              "         0.0274838 ], dtype=float32)>,\n",
              " <tf.Variable 'Variable:0' shape=(16384, 10) dtype=float32, numpy=\n",
              " array([[ 0.01464348, -0.00882113,  0.00571113, ..., -0.00640986,\n",
              "         -0.00244739,  0.00275924],\n",
              "        [-0.00147425,  0.00283888, -0.00937171, ..., -0.00339773,\n",
              "          0.01479574,  0.03042035],\n",
              "        [-0.01009245, -0.00894674, -0.01385095, ...,  0.01220893,\n",
              "          0.01521035, -0.01704052],\n",
              "        ...,\n",
              "        [ 0.01008042,  0.01233952, -0.0063256 , ..., -0.00867091,\n",
              "         -0.01038122,  0.0053964 ],\n",
              "        [ 0.0015785 ,  0.00071422,  0.0049447 , ..., -0.01481067,\n",
              "         -0.00130148, -0.00353186],\n",
              "        [-0.01704905, -0.00859302, -0.01794639, ..., -0.00651071,\n",
              "         -0.00584765,  0.00251022]], dtype=float32)>,\n",
              " <tf.Variable 'Variable:0' shape=(10,) dtype=float32, numpy=\n",
              " array([-0.02099139, -0.05251255,  0.03429133,  0.01381228,  0.05317656,\n",
              "        -0.00919318,  0.0218281 , -0.02026999,  0.02312163, -0.04326254],\n",
              "       dtype=float32)>]"
            ]
          },
          "metadata": {},
          "execution_count": 18
        }
      ],
      "source": [
        "def three_layer_convnet_init():\n",
        "    \"\"\"\n",
        "    Initialize the weights of a Three-Layer ConvNet, for use with the\n",
        "    three_layer_convnet function defined above.\n",
        "    You can use the `create_matrix_with_kaiming_normal` helper!\n",
        "    \n",
        "    Inputs: None\n",
        "    \n",
        "    Returns a list containing:\n",
        "    - conv_w1: TensorFlow tf.Variable giving weights for the first conv layer\n",
        "    - conv_b1: TensorFlow tf.Variable giving biases for the first conv layer\n",
        "    - conv_w2: TensorFlow tf.Variable giving weights for the second conv layer\n",
        "    - conv_b2: TensorFlow tf.Variable giving biases for the second conv layer\n",
        "    - fc_w: TensorFlow tf.Variable giving weights for the fully-connected layer\n",
        "    - fc_b: TensorFlow tf.Variable giving biases for the fully-connected layer\n",
        "    \"\"\"\n",
        "    params = None\n",
        "    ############################################################################\n",
        "    # TODO: Initialize the parameters of the three-layer network.              #\n",
        "    ############################################################################\n",
        "    # *****START OF YOUR CODE (DO NOT DELETE/MODIFY THIS LINE)*****\n",
        "\n",
        "    conv_w1 = tf.Variable(create_matrix_with_kaiming_normal((5, 5, 3, 32)))\n",
        "    conv_b1 = tf.Variable(tf.zeros((32, )))\n",
        "    conv_w2 = tf.Variable(create_matrix_with_kaiming_normal((3, 3, 32, 16)))\n",
        "    conv_b2 = tf.Variable(tf.zeros((16, )))\n",
        "    fc_w = tf.Variable(create_matrix_with_kaiming_normal((32 * 32 * 16, 10)))\n",
        "    fc_b = tf.Variable(tf.zeros((10, )))\n",
        "\n",
        "    params = [conv_w1, conv_b1, conv_w2, conv_b2, fc_w, fc_b]\n",
        "\n",
        "    # *****END OF YOUR CODE (DO NOT DELETE/MODIFY THIS LINE)*****\n",
        "    ############################################################################\n",
        "    #                             END OF YOUR CODE                             #\n",
        "    ############################################################################\n",
        "    return params\n",
        "\n",
        "learning_rate = 3e-3\n",
        "train_part2(three_layer_convnet, three_layer_convnet_init, learning_rate,5)"
      ]
    },
    {
      "cell_type": "markdown",
      "metadata": {
        "id": "O1LDBYtrTKDF"
      },
      "source": [
        "# Part V: Train a _GREAT_ model on CIFAR-10!\n",
        "\n",
        "In this section you can experiment with whatever ConvNet architecture you'd like on CIFAR-10.\n",
        "\n",
        "You should experiment with architectures, hyperparameters, loss functions, regularization, or anything else you can think of to train a model that achieves **at least 70%** accuracy on the **validation** set within 10 epochs. You can use the built-in train function, the `train_part34` function from above, or implement your own training loop.\n",
        "\n",
        "Describe what you did at the end of the notebook.\n",
        "\n",
        "### Some things you can try:\n",
        "- **Filter size**: Above we used 5x5 and 3x3; is this optimal?\n",
        "- **Number of filters**: Above we used 16 and 32 filters. Would more or fewer do better?\n",
        "- **Pooling**: We didn't use any pooling above. Would this improve the model?\n",
        "- **Normalization**: Would your model be improved with batch normalization, layer normalization, group normalization, or some other normalization strategy?\n",
        "- **Network architecture**: The ConvNet above has only three layers of trainable parameters. Would a deeper model do better? Good architectures to try include:\n",
        "    - [conv-relu-pool]xN -> [affine]xM -> [softmax or SVM]\n",
        "    - [conv-relu-conv-relu-pool]xN -> [affine]xM -> [softmax or SVM]\n",
        "    - [batchnorm-relu-conv]xN -> [affine]xM -> [softmax or SVM]\n",
        "- **Global average pooling**: Instead of flattening after the final convolutional layer, would global average pooling do better? This strategy is used for example in Google's Inception network and in Residual Networks.\n",
        "- **Regularization**: Would some kind of regularization improve performance? Maybe weight decay or dropout?\n",
        "\n",
        "### NOTE: Batch Normalization / Dropout\n",
        "If you are using Batch Normalization and Dropout, remember to pass `is_training=True` if you use the `train_part34()` function. BatchNorm and Dropout layers have different behaviors at training and inference time. `training` is a specific keyword argument reserved for this purpose in any `tf.keras.Model`'s `call()` function. Read more about this here : https://www.tensorflow.org/versions/r2.0/api_docs/python/tf/keras/layers/BatchNormalization#methods\n",
        "https://www.tensorflow.org/versions/r2.0/api_docs/python/tf/keras/layers/Dropout#methods\n",
        "\n",
        "### Tips for training\n",
        "For each network architecture that you try, you should tune the learning rate and other hyperparameters. When doing this there are a couple important things to keep in mind: \n",
        "\n",
        "- If the parameters are working well, you should see improvement within a few hundred iterations\n",
        "- Remember the coarse-to-fine approach for hyperparameter tuning: start by testing a large range of hyperparameters for just a few training iterations to find the combinations of parameters that are working at all.\n",
        "- Once you have found some sets of parameters that seem to work, search more finely around these parameters. You may need to train for more epochs.\n",
        "- You should use the validation set for hyperparameter search, and save your test set for evaluating your architecture on the best parameters as selected by the validation set.\n",
        "\n",
        "### Going above and beyond\n",
        "If you are feeling adventurous there are many other features you can implement to try and improve your performance. You are **not required** to implement any of these, but don't miss the fun if you have time!\n",
        "\n",
        "- Alternative optimizers: you can try Adam, Adagrad, RMSprop, etc.\n",
        "- Alternative activation functions such as leaky ReLU, parametric ReLU, ELU, or MaxOut.\n",
        "- Model ensembles\n",
        "- Data augmentation\n",
        "- New Architectures\n",
        "  - [ResNets](https://arxiv.org/abs/1512.03385) where the input from the previous layer is added to the output.\n",
        "  - [DenseNets](https://arxiv.org/abs/1608.06993) where inputs into previous layers are concatenated together.\n",
        "  - [This blog has an in-depth overview](https://chatbotslife.com/resnets-highwaynets-and-densenets-oh-my-9bb15918ee32)\n",
        "  \n",
        "### Have fun and happy training! "
      ]
    },
    {
      "cell_type": "code",
      "execution_count": 19,
      "metadata": {
        "id": "bl2A5hyBTKDF"
      },
      "outputs": [],
      "source": [
        "def train_part34(model_init_fn, optimizer_init_fn, num_epochs=1, is_training=False):\n",
        "    ############################################################################\n",
        "    # TODO: Train a model on CIFAR-10.                 #\n",
        "    ############################################################################\n",
        "    # *****START OF YOUR CODE (DO NOT DELETE/MODIFY THIS LINE)*****\n",
        "    \n",
        "    model = model_init_fn()\n",
        "    optimizer = optimizer_init_fn()\n",
        "\n",
        "    model.compile(optimizer, loss=tf.keras.losses.SparseCategoricalCrossentropy(), metrics=['accuracy'])\n",
        "    model.fit(X_train, y_train, batch_size=128, epochs=num_epochs, validation_data=(X_val, y_val))\n",
        "    return model\n",
        "\n",
        "    # *****END OF YOUR CODE (DO NOT DELETE/MODIFY THIS LINE)*****\n",
        "    ############################################################################\n",
        "    #                            END OF YOUR CODE                              #\n",
        "    ############################################################################"
      ]
    },
    {
      "cell_type": "code",
      "execution_count": 20,
      "metadata": {
        "colab": {
          "base_uri": "https://localhost:8080/"
        },
        "id": "9L7GXlBATKDF",
        "outputId": "befdabfd-1eef-46b4-e801-2fce404c0f2f"
      },
      "outputs": [
        {
          "output_type": "stream",
          "name": "stdout",
          "text": [
            "Train\n",
            "Epoch 1/10\n",
            "383/383 [==============================] - 20s 49ms/step - loss: 1.6791 - accuracy: 0.3838 - val_loss: 1.2472 - val_accuracy: 0.5590\n",
            "Epoch 2/10\n",
            "383/383 [==============================] - 18s 46ms/step - loss: 1.1626 - accuracy: 0.5896 - val_loss: 1.0228 - val_accuracy: 0.6460\n",
            "Epoch 3/10\n",
            "383/383 [==============================] - 18s 47ms/step - loss: 0.9305 - accuracy: 0.6803 - val_loss: 0.8199 - val_accuracy: 0.7170\n",
            "Epoch 4/10\n",
            "383/383 [==============================] - 18s 47ms/step - loss: 0.7775 - accuracy: 0.7314 - val_loss: 0.7341 - val_accuracy: 0.7410\n",
            "Epoch 5/10\n",
            "383/383 [==============================] - 18s 47ms/step - loss: 0.6545 - accuracy: 0.7760 - val_loss: 0.7349 - val_accuracy: 0.7610\n",
            "Epoch 6/10\n",
            "383/383 [==============================] - 18s 47ms/step - loss: 0.5647 - accuracy: 0.8064 - val_loss: 0.7124 - val_accuracy: 0.7690\n",
            "Epoch 7/10\n",
            "383/383 [==============================] - 18s 47ms/step - loss: 0.4728 - accuracy: 0.8392 - val_loss: 0.7520 - val_accuracy: 0.7470\n",
            "Epoch 8/10\n",
            "383/383 [==============================] - 18s 48ms/step - loss: 0.4010 - accuracy: 0.8611 - val_loss: 0.7767 - val_accuracy: 0.7640\n",
            "Epoch 9/10\n",
            "383/383 [==============================] - 18s 48ms/step - loss: 0.3514 - accuracy: 0.8792 - val_loss: 0.8135 - val_accuracy: 0.7500\n",
            "Epoch 10/10\n",
            "383/383 [==============================] - 18s 48ms/step - loss: 0.3143 - accuracy: 0.8939 - val_loss: 0.8501 - val_accuracy: 0.7590\n"
          ]
        }
      ],
      "source": [
        "class CustomConvNet(tf.keras.Model):\n",
        "    def __init__(self):\n",
        "        super(CustomConvNet, self).__init__()\n",
        "        ############################################################################\n",
        "        # TODO: Construct a model that performs well on CIFAR-10                   #\n",
        "        ############################################################################\n",
        "        # *****START OF YOUR CODE (DO NOT DELETE/MODIFY THIS LINE)*****\n",
        "\n",
        "        self.conv1 = tf.keras.layers.Conv2D(64, 5, padding=\"same\", activation=\"relu\") \n",
        "        self.conv2 = tf.keras.layers.Conv2D(128, 5, padding=\"same\", activation=\"relu\")\n",
        "        self.maxpooling1 = tf.keras.layers.MaxPooling2D(2)\n",
        "        self.conv3 = tf.keras.layers.Conv2D(128, 3, padding=\"same\", activation=\"relu\")\n",
        "        self.conv4 = tf.keras.layers.Conv2D(512, 3, padding=\"same\", activation=\"relu\")\n",
        "        self.maxpooling2 = tf.keras.layers.MaxPooling2D(2)\n",
        "\n",
        "        self.flatten = tf.keras.layers.Flatten()\n",
        "        self.dense1 = tf.keras.layers.Dense(512, activation='relu')\n",
        "        self.dropout1 = tf.keras.layers.Dropout(0.5)\n",
        "        self.dense2 = tf.keras.layers.Dense(256, activation='relu')\n",
        "        self.dropout2 = tf.keras.layers.Dropout(0.5)\n",
        "        self.softmax = tf.keras.layers.Dense(10, activation='softmax')\n",
        "\n",
        "        # *****END OF YOUR CODE (DO NOT DELETE/MODIFY THIS LINE)*****\n",
        "        ############################################################################\n",
        "        #                            END OF YOUR CODE                              #\n",
        "        ############################################################################\n",
        "    \n",
        "    def call(self, input_tensor, training=False):\n",
        "        ############################################################################\n",
        "        # TODO: Construct a model that performs well on CIFAR-10                   #\n",
        "        ############################################################################\n",
        "        # *****START OF YOUR CODE (DO NOT DELETE/MODIFY THIS LINE)*****\n",
        "\n",
        "        x = self.maxpooling1(self.conv2(self.conv1(input_tensor)))\n",
        "        x = self.maxpooling2(self.conv4(self.conv3(x)))\n",
        "        x = self.flatten(x)\n",
        "        x = self.dropout1(self.dense1(x))\n",
        "        x = self.dropout2(self.dense2(x))\n",
        "        x = self.softmax(x)\n",
        "\n",
        "        # *****END OF YOUR CODE (DO NOT DELETE/MODIFY THIS LINE)*****\n",
        "        ############################################################################\n",
        "        #                            END OF YOUR CODE                              #\n",
        "        ############################################################################\n",
        "        \n",
        "        return x\n",
        "\n",
        "device = '/device:GPU:0'   # Change this to a CPU/GPU as you wish!\n",
        "# device = '/cpu:0'        # Change this to a CPU/GPU as you wish!\n",
        "print_every = 700\n",
        "num_epochs = 10\n",
        "\n",
        "model = CustomConvNet()\n",
        "\n",
        "def model_init_fn():\n",
        "    return CustomConvNet()\n",
        "\n",
        "def optimizer_init_fn():\n",
        "    learning_rate = 1e-3\n",
        "    return tf.keras.optimizers.Adam(learning_rate) \n",
        "print('Train')\n",
        "trained_params =train_part34(model_init_fn, optimizer_init_fn, num_epochs=num_epochs, is_training=True)\n",
        "\n",
        "# print('Test')\n",
        "# check_accuracy(test_dset, model_init_fn, trained_params)"
      ]
    },
    {
      "cell_type": "code",
      "execution_count": 21,
      "metadata": {
        "colab": {
          "base_uri": "https://localhost:8080/"
        },
        "id": "304VdeVXTKDG",
        "outputId": "0a1335d0-54c6-4b88-a503-82038c482a67"
      },
      "outputs": [
        {
          "output_type": "stream",
          "name": "stdout",
          "text": [
            "Test\n",
            "313/313 [==============================] - 2s 7ms/step - loss: 0.8134 - accuracy: 0.7638\n"
          ]
        },
        {
          "output_type": "execute_result",
          "data": {
            "text/plain": [
              "[0.8134422898292542, 0.7638000249862671]"
            ]
          },
          "metadata": {},
          "execution_count": 21
        }
      ],
      "source": [
        "print('Test')\n",
        "trained_params.evaluate(X_test,y_test)"
      ]
    },
    {
      "cell_type": "markdown",
      "metadata": {
        "tags": [
          "pdf-inline"
        ],
        "id": "C-9jINRYTKDG"
      },
      "source": [
        "## Describe what you did \n",
        "\n",
        "In the cell below you should write an explanation of what you did, any additional features that you implemented, and/or any graphs that you made in the process of training and evaluating your network."
      ]
    },
    {
      "cell_type": "markdown",
      "metadata": {
        "tags": [
          "pdf-inline"
        ],
        "id": "uFDn7IG-TKDG"
      },
      "source": [
        "TODO: Tell us what you did\n",
        "\n",
        "I experimented with the number of filters and eventually used **64, 128, and 512** **number of filters**, where more filters are used in the later convolutional layers. For filter sizes, I stuck to **5x5 and 3x3 filter sizes**, with the smaller filter sizes for the later convolutions so that the receptive field will be larger. I used one of the recommended architectures **[conv-relu-conv-relu-pool]xN ->[affine]xM->[softmax]** with **maxpooling** as the pooling layers. I used 2 of the [conv-relu-conv-relu-pool] setup as using more did not improve the performance, and used 2 affine layers with a **high number of nodes** as it improved the performance of the model. For regularization, I used **dropout layers with 0.5 dropout rate** between each dense layers as the model seems to perform much better on the training set than the validation set."
      ]
    }
  ],
  "metadata": {
    "kernelspec": {
      "display_name": "Python 3",
      "language": "python",
      "name": "python3"
    },
    "language_info": {
      "codemirror_mode": {
        "name": "ipython",
        "version": 3
      },
      "file_extension": ".py",
      "mimetype": "text/x-python",
      "name": "python",
      "nbconvert_exporter": "python",
      "pygments_lexer": "ipython3",
      "version": "3.6.13"
    },
    "colab": {
      "name": "TensorFlow.ipynb",
      "provenance": [],
      "collapsed_sections": []
    },
    "accelerator": "GPU"
  },
  "nbformat": 4,
  "nbformat_minor": 0
}