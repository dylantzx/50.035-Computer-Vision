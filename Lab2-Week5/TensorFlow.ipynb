{
  "cells": [
    {
      "cell_type": "markdown",
      "metadata": {
        "tags": [
          "pdf-title"
        ],
        "id": "LHDQBu9HTKCn"
      },
      "source": [
        "# What's this TensorFlow business?\n",
        "\n",
        "You've written a lot of code in this assignment to provide a whole host of neural network functionality. Dropout, Batch Norm, and 2D convolutions are some of the workhorses of deep learning in computer vision. You've also worked hard to make your code efficient and vectorized.\n",
        "\n",
        "For the last part of this assignment, though, we're going to leave behind your beautiful codebase and instead migrate to one of two popular deep learning frameworks: in this instance, TensorFlow (or PyTorch, if you choose to work with that notebook)."
      ]
    },
    {
      "cell_type": "markdown",
      "metadata": {
        "tags": [
          "pdf-ignore"
        ],
        "id": "891q4xu8TKCr"
      },
      "source": [
        "#### What is it?\n",
        "TensorFlow is a system for executing computational graphs over Tensor objects, with native support for performing backpropogation for its Variables. In it, we work with Tensors which are n-dimensional arrays analogous to the numpy ndarray.\n",
        "\n",
        "#### Why?\n",
        "\n",
        "* Our code will now run on GPUs! Much faster training. Writing your own modules to run on GPUs is beyond the scope of this class, unfortunately.\n",
        "* We want you to be ready to use one of these frameworks for your project so you can experiment more efficiently than if you were writing every feature you want to use by hand. \n",
        "* We want you to stand on the shoulders of giants! TensorFlow and PyTorch are both excellent frameworks that will make your lives a lot easier, and now that you understand their guts, you are free to use them :) \n",
        "* We want you to be exposed to the sort of deep learning code you might run into in academia or industry. "
      ]
    },
    {
      "cell_type": "markdown",
      "metadata": {
        "id": "Zb7d6LJiTKCs"
      },
      "source": [
        "**Acknowledgement: This exercise is adapted from [Stanford CS231n](http://cs231n.stanford.edu/index.html).**"
      ]
    },
    {
      "cell_type": "markdown",
      "metadata": {
        "tags": [
          "pdf-ignore"
        ],
        "id": "zsM7D6_5TKCu"
      },
      "source": [
        "## How will I learn TensorFlow?\n",
        "\n",
        "TensorFlow has many excellent tutorials available, including those from [Google themselves](https://www.tensorflow.org/get_started/get_started).\n",
        "\n",
        "Otherwise, this notebook will walk you through much of what you need to do to train models in TensorFlow. See the end of the notebook for some links to helpful tutorials if you want to learn more or need further clarification on topics that aren't fully explained here.\n",
        "\n",
        "**NOTE: This notebook is meant to teach you the latest version of Tensorflow 2.0. Most examples on the web today are still in 1.x, so be careful not to confuse the two when looking up documentation**.\n",
        "\n",
        "## Install Tensorflow 2.0\n",
        "Tensorflow 2.0 is still not in a fully 100% stable release, but it's still usable and more intuitive than TF 1.x. Please make sure you have it installed before moving on in this notebook! Here are some steps to get started:\n",
        "\n",
        "1. Have the latest version of Anaconda installed on your machine.\n",
        "2. Create a new conda environment starting from Python 3.7. In this setup example, we'll call it `tf_20_env`.\n",
        "3. Run the command: `source activate tf_20_env`\n",
        "4. Then pip install TF 2.0 as described here: https://www.tensorflow.org/install/pip \n",
        "\n",
        "A guide on creating Anaconda enviornments: https://uoa-eresearch.github.io/eresearch-cookbook/recipe/2014/11/20/conda/\n",
        "\n",
        "This will give you an new enviornemnt to play in TF 2.0. Generally, if you plan to also use TensorFlow in your other projects, you might also want to keep a seperate Conda environment or virtualenv in Python 3.7 that has Tensorflow 1.9, so you can switch back and forth at will. "
      ]
    },
    {
      "cell_type": "markdown",
      "metadata": {
        "id": "oDq51WJ3TKCy"
      },
      "source": [
        "**Acknowledgement: This exercise is adapted from [Stanford CS231n](http://cs231n.stanford.edu/index.html).**"
      ]
    },
    {
      "cell_type": "markdown",
      "metadata": {
        "id": "gllYP1aNTKCy"
      },
      "source": [
        "## How will I learn TensorFlow?\n",
        "\n",
        "TensorFlow has many excellent tutorials available, including those from [Google themselves](https://www.tensorflow.org/get_started/get_started).\n",
        "\n",
        "Otherwise, this notebook will walk you through much of what you need to do to train models in TensorFlow. See the end of the notebook for some links to helpful tutorials if you want to learn more or need further clarification on topics that aren't fully explained here.\n",
        "\n",
        "# Part I: Preparation"
      ]
    },
    {
      "cell_type": "code",
      "execution_count": 1,
      "metadata": {
        "tags": [
          "pdf-ignore"
        ],
        "id": "Taj9kCV6TKCz"
      },
      "outputs": [],
      "source": [
        "import os\n",
        "import tensorflow as tf\n",
        "import numpy as np\n",
        "import math\n",
        "import timeit\n",
        "import matplotlib.pyplot as plt\n",
        "\n",
        "%matplotlib inline"
      ]
    },
    {
      "cell_type": "code",
      "execution_count": 2,
      "metadata": {
        "tags": [
          "pdf-ignore"
        ],
        "colab": {
          "base_uri": "https://localhost:8080/"
        },
        "id": "-o69S5rITKC2",
        "outputId": "55dcfa5f-d92a-4b95-df94-fbc411dc12fb"
      },
      "outputs": [
        {
          "output_type": "stream",
          "name": "stdout",
          "text": [
            "Downloading data from https://www.cs.toronto.edu/~kriz/cifar-10-python.tar.gz\n",
            "170500096/170498071 [==============================] - 2s 0us/step\n",
            "170508288/170498071 [==============================] - 2s 0us/step\n",
            "Train data shape:  (49000, 32, 32, 3)\n",
            "Train labels shape:  (49000,) int32\n",
            "Validation data shape:  (1000, 32, 32, 3)\n",
            "Validation labels shape:  (1000,)\n",
            "Test data shape:  (10000, 32, 32, 3)\n",
            "Test labels shape:  (10000,)\n"
          ]
        }
      ],
      "source": [
        "def load_cifar10(num_training=49000, num_validation=1000, num_test=10000):\n",
        "    \"\"\"\n",
        "    Fetch the CIFAR-10 dataset from the web and perform preprocessing to prepare\n",
        "    it for the two-layer neural net classifier. These are the same steps as\n",
        "    we used for the SVM, but condensed to a single function.\n",
        "    \"\"\"\n",
        "    # Load the raw CIFAR-10 dataset and use appropriate data types and shapes\n",
        "    cifar10 = tf.keras.datasets.cifar10.load_data()\n",
        "    (X_train, y_train), (X_test, y_test) = cifar10\n",
        "    X_train = np.asarray(X_train, dtype=np.float32)\n",
        "    y_train = np.asarray(y_train, dtype=np.int32).flatten()\n",
        "    X_test = np.asarray(X_test, dtype=np.float32)\n",
        "    y_test = np.asarray(y_test, dtype=np.int32).flatten()\n",
        "\n",
        "    # Subsample the data\n",
        "    mask = range(num_training, num_training + num_validation)\n",
        "    X_val = X_train[mask]\n",
        "    y_val = y_train[mask]\n",
        "    mask = range(num_training)\n",
        "    X_train = X_train[mask]\n",
        "    y_train = y_train[mask]\n",
        "    mask = range(num_test)\n",
        "    X_test = X_test[mask]\n",
        "    y_test = y_test[mask]\n",
        "\n",
        "    # Normalize the data: subtract the mean pixel and divide by std\n",
        "    mean_pixel = X_train.mean(axis=(0, 1, 2), keepdims=True)\n",
        "    std_pixel = X_train.std(axis=(0, 1, 2), keepdims=True)\n",
        "    X_train = (X_train - mean_pixel) / std_pixel\n",
        "    X_val = (X_val - mean_pixel) / std_pixel\n",
        "    X_test = (X_test - mean_pixel) / std_pixel\n",
        "\n",
        "    return X_train, y_train, X_val, y_val, X_test, y_test\n",
        "\n",
        "# If there are errors with SSL downloading involving self-signed certificates,\n",
        "# it may be that your Python version was recently installed on the current machine.\n",
        "# See: https://github.com/tensorflow/tensorflow/issues/10779\n",
        "# To fix, run the command: /Applications/Python\\ 3.7/Install\\ Certificates.command\n",
        "#   ...replacing paths as necessary.\n",
        "\n",
        "# Invoke the above function to get our data.\n",
        "NHW = (0, 1, 2)\n",
        "X_train, y_train, X_val, y_val, X_test, y_test = load_cifar10()\n",
        "print('Train data shape: ', X_train.shape)\n",
        "print('Train labels shape: ', y_train.shape, y_train.dtype)\n",
        "print('Validation data shape: ', X_val.shape)\n",
        "print('Validation labels shape: ', y_val.shape)\n",
        "print('Test data shape: ', X_test.shape)\n",
        "print('Test labels shape: ', y_test.shape)"
      ]
    },
    {
      "cell_type": "code",
      "execution_count": 3,
      "metadata": {
        "tags": [
          "pdf-ignore"
        ],
        "id": "eGDDQmTqTKC4"
      },
      "outputs": [],
      "source": [
        "class Dataset(object):\n",
        "    def __init__(self, X, y, batch_size, shuffle=False):\n",
        "        \"\"\"\n",
        "        Construct a Dataset object to iterate over data X and labels y\n",
        "        \n",
        "        Inputs:\n",
        "        - X: Numpy array of data, of any shape\n",
        "        - y: Numpy array of labels, of any shape but with y.shape[0] == X.shape[0]\n",
        "        - batch_size: Integer giving number of elements per minibatch\n",
        "        - shuffle: (optional) Boolean, whether to shuffle the data on each epoch\n",
        "        \"\"\"\n",
        "        assert X.shape[0] == y.shape[0], 'Got different numbers of data and labels'\n",
        "        self.X, self.y = X, y\n",
        "        self.batch_size, self.shuffle = batch_size, shuffle\n",
        "\n",
        "    def __iter__(self):\n",
        "        N, B = self.X.shape[0], self.batch_size\n",
        "        idxs = np.arange(N)\n",
        "        if self.shuffle:\n",
        "            np.random.shuffle(idxs)\n",
        "        return iter((self.X[i:i+B], self.y[i:i+B]) for i in range(0, N, B))\n",
        "\n",
        "\n",
        "train_dset = Dataset(X_train, y_train, batch_size=64, shuffle=True)\n",
        "val_dset = Dataset(X_val, y_val, batch_size=64, shuffle=False)\n",
        "test_dset = Dataset(X_test, y_test, batch_size=64)"
      ]
    },
    {
      "cell_type": "code",
      "execution_count": 4,
      "metadata": {
        "colab": {
          "base_uri": "https://localhost:8080/"
        },
        "id": "-4UtliHhTKC5",
        "outputId": "4f35c52d-db74-4537-9b64-37f38396908d"
      },
      "outputs": [
        {
          "output_type": "stream",
          "name": "stdout",
          "text": [
            "0 (64, 32, 32, 3) (64,)\n",
            "1 (64, 32, 32, 3) (64,)\n",
            "2 (64, 32, 32, 3) (64,)\n",
            "3 (64, 32, 32, 3) (64,)\n",
            "4 (64, 32, 32, 3) (64,)\n",
            "5 (64, 32, 32, 3) (64,)\n",
            "6 (64, 32, 32, 3) (64,)\n"
          ]
        }
      ],
      "source": [
        "# We can iterate through a dataset like this:\n",
        "for t, (x, y) in enumerate(train_dset):\n",
        "    print(t, x.shape, y.shape)\n",
        "    if t > 5: break"
      ]
    },
    {
      "cell_type": "markdown",
      "metadata": {
        "id": "ZYXeGjVFTKC6"
      },
      "source": [
        "You can optionally **use GPU by setting the flag to True below**. It's not neccessary to use a GPU for this assignment; if you are working on Google Cloud then we recommend that you do not use a GPU, as it will be significantly more expensive."
      ]
    },
    {
      "cell_type": "code",
      "execution_count": 5,
      "metadata": {
        "tags": [
          "pdf-ignore-input"
        ],
        "colab": {
          "base_uri": "https://localhost:8080/"
        },
        "id": "2wPnE_PwTKC7",
        "outputId": "8515df34-cd16-471b-dc5b-00a8b9a51145"
      },
      "outputs": [
        {
          "output_type": "stream",
          "name": "stdout",
          "text": [
            "Using device:  /cpu:0\n"
          ]
        }
      ],
      "source": [
        "# Set up some global variables\n",
        "USE_GPU = False\n",
        "\n",
        "if USE_GPU:\n",
        "    device = '/device:GPU:0'\n",
        "else:\n",
        "    device = '/cpu:0'\n",
        "\n",
        "# Constant to control how often we print when training models\n",
        "print_every = 100\n",
        "\n",
        "print('Using device: ', device)"
      ]
    },
    {
      "cell_type": "markdown",
      "metadata": {
        "tags": [
          "pdf-ignore"
        ],
        "id": "olxqGbXsTKC7"
      },
      "source": [
        "# Part II: Barebones TensorFlow\n",
        "TensorFlow ships with various high-level APIs which make it very convenient to define and train neural networks; we will cover some of these constructs in Part III and Part IV of this notebook. In this section we will start by building a model with basic TensorFlow constructs to help you better understand what's going on under the hood of the higher-level APIs.\n",
        "\n",
        "**\"Barebones Tensorflow\" is important to understanding the building blocks of TensorFlow, but much of it involves concepts from TensorFlow 1.x.** We will be working with legacy modules such as `tf.Variable`.\n",
        "\n",
        "Therefore, please read and understand the differences between legacy (1.x) TF and the new (2.0) TF.\n",
        "\n",
        "### Historical background on TensorFlow 1.x\n",
        "\n",
        "TensorFlow 1.x is primarily a framework for working with **static computational graphs**. Nodes in the computational graph are Tensors which will hold n-dimensional arrays when the graph is run; edges in the graph represent functions that will operate on Tensors when the graph is run to actually perform useful computation.\n",
        "\n",
        "Before Tensorflow 2.0, we had to configure the graph into two phases. There are plenty of tutorials online that explain this two-step process. The process generally looks like the following for TF 1.x:\n",
        "1. **Build a computational graph that describes the computation that you want to perform**. This stage doesn't actually perform any computation; it just builds up a symbolic representation of your computation. This stage will typically define one or more `placeholder` objects that represent inputs to the computational graph.\n",
        "2. **Run the computational graph many times.** Each time the graph is run (e.g. for one gradient descent step) you will specify which parts of the graph you want to compute, and pass a `feed_dict` dictionary that will give concrete values to any `placeholder`s in the graph.\n",
        "\n",
        "### The new paradigm in Tensorflow 2.0\n",
        "Now, with Tensorflow 2.0, we can simply adopt a functional form that is more Pythonic and similar in spirit to PyTorch and direct Numpy operation. Instead of the 2-step paradigm with computation graphs, making it (among other things) easier to debug TF code. You can read more details at https://www.tensorflow.org/guide/eager.\n",
        "\n",
        "The main difference between the TF 1.x and 2.0 approach is that the 2.0 approach doesn't make use of `tf.Session`, `tf.run`, `placeholder`, `feed_dict`. To get more details of what's different between the two version and how to convert between the two, check out the official migration guide: https://www.tensorflow.org/alpha/guide/migration_guide\n",
        "\n",
        "Later, in the rest of this notebook we'll focus on this new, simpler approach."
      ]
    },
    {
      "cell_type": "markdown",
      "metadata": {
        "tags": [
          "pdf-ignore"
        ],
        "id": "qDKeqr8gTKC9"
      },
      "source": [
        "### TensorFlow warmup: Flatten Function\n",
        "\n",
        "We can see this in action by defining a simple `flatten` function that will reshape image data for use in a fully-connected network.\n",
        "\n",
        "In TensorFlow, data for convolutional feature maps is typically stored in a Tensor of shape N x H x W x C where:\n",
        "\n",
        "- N is the number of datapoints (minibatch size)\n",
        "- H is the height of the feature map\n",
        "- W is the width of the feature map\n",
        "- C is the number of channels in the feature map\n",
        "\n",
        "This is the right way to represent the data when we are doing something like a 2D convolution, that needs spatial understanding of where the intermediate features are relative to each other. When we use fully connected affine layers to process the image, however, we want each datapoint to be represented by a single vector -- it's no longer useful to segregate the different channels, rows, and columns of the data. So, we use a \"flatten\" operation to collapse the `H x W x C` values per representation into a single long vector. \n",
        "\n",
        "Notice the `tf.reshape` call has the target shape as `(N, -1)`, meaning it will reshape/keep the first dimension to be N, and then infer as necessary what the second dimension is in the output, so we can collapse the remaining dimensions from the input properly.\n",
        "\n",
        "**NOTE**: TensorFlow and PyTorch differ on the default Tensor layout; TensorFlow uses N x H x W x C but PyTorch uses N x C x H x W."
      ]
    },
    {
      "cell_type": "code",
      "execution_count": 6,
      "metadata": {
        "tags": [
          "pdf-ignore"
        ],
        "id": "ohdEaBf8TKC-"
      },
      "outputs": [],
      "source": [
        "def flatten(x):\n",
        "    \"\"\"    \n",
        "    Input:\n",
        "    - TensorFlow Tensor of shape (N, D1, ..., DM)\n",
        "    \n",
        "    Output:\n",
        "    - TensorFlow Tensor of shape (N, D1 * ... * DM)\n",
        "    \"\"\"\n",
        "    N = tf.shape(x)[0]\n",
        "    return tf.reshape(x, (N, -1))"
      ]
    },
    {
      "cell_type": "code",
      "execution_count": 7,
      "metadata": {
        "tags": [
          "pdf-ignore-input"
        ],
        "colab": {
          "base_uri": "https://localhost:8080/"
        },
        "id": "zYqVNum1TKC-",
        "outputId": "b4d7cd7f-ad79-4d58-d061-8f2a492dcd69"
      },
      "outputs": [
        {
          "output_type": "stream",
          "name": "stdout",
          "text": [
            "x_np:\n",
            " [[[ 0  1  2  3]\n",
            "  [ 4  5  6  7]\n",
            "  [ 8  9 10 11]]\n",
            "\n",
            " [[12 13 14 15]\n",
            "  [16 17 18 19]\n",
            "  [20 21 22 23]]] \n",
            "\n",
            "x_flat_np:\n",
            " tf.Tensor(\n",
            "[[ 0  1  2  3  4  5  6  7  8  9 10 11]\n",
            " [12 13 14 15 16 17 18 19 20 21 22 23]], shape=(2, 12), dtype=int64) \n",
            "\n"
          ]
        }
      ],
      "source": [
        "def test_flatten():\n",
        "    # Construct concrete values of the input data x using numpy\n",
        "    x_np = np.arange(24).reshape((2, 3, 4))\n",
        "    print('x_np:\\n', x_np, '\\n')\n",
        "    # Compute a concrete output value.\n",
        "    x_flat_np = flatten(x_np)\n",
        "    print('x_flat_np:\\n', x_flat_np, '\\n')\n",
        "\n",
        "test_flatten()"
      ]
    },
    {
      "cell_type": "markdown",
      "metadata": {
        "id": "bsicnE06TKC_"
      },
      "source": [
        "### Barebones TensorFlow: Define a Two-Layer Network\n",
        "We will now implement our first neural network with TensorFlow: a fully-connected ReLU network with two hidden layers and no biases on the CIFAR10 dataset. For now we will use only low-level TensorFlow operators to define the network; later we will see how to use the higher-level abstractions provided by `tf.keras` to simplify the process.\n",
        "\n",
        "We will define the forward pass of the network in the function `two_layer_fc`; this will accept TensorFlow Tensors for the inputs and weights of the network, and return a TensorFlow Tensor for the scores. \n",
        "\n",
        "After defining the network architecture in the `two_layer_fc` function, we will test the implementation by checking the shape of the output.\n",
        "\n",
        "**It's important that you read and understand this implementation.**"
      ]
    },
    {
      "cell_type": "code",
      "execution_count": 8,
      "metadata": {
        "tags": [
          "pdf-ignore"
        ],
        "id": "jq3wbMYwTKC_"
      },
      "outputs": [],
      "source": [
        "def two_layer_fc(x, params):\n",
        "    \"\"\"\n",
        "    A fully-connected neural network; the architecture is:\n",
        "    fully-connected layer -> ReLU -> fully connected layer.\n",
        "    Note that we only need to define the forward pass here; TensorFlow will take\n",
        "    care of computing the gradients for us.\n",
        "    \n",
        "    The input to the network will be a minibatch of data, of shape\n",
        "    (N, d1, ..., dM) where d1 * ... * dM = D. The hidden layer will have H units,\n",
        "    and the output layer will produce scores for C classes.\n",
        "\n",
        "    Inputs:\n",
        "    - x: A TensorFlow Tensor of shape (N, d1, ..., dM) giving a minibatch of\n",
        "      input data.\n",
        "    - params: A list [w1, w2] of TensorFlow Tensors giving weights for the\n",
        "      network, where w1 has shape (D, H) and w2 has shape (H, C).\n",
        "    \n",
        "    Returns:\n",
        "    - scores: A TensorFlow Tensor of shape (N, C) giving classification scores\n",
        "      for the input data x.\n",
        "    \"\"\"\n",
        "    w1, w2 = params                   # Unpack the parameters\n",
        "    x = flatten(x)                    # Flatten the input; now x has shape (N, D)\n",
        "    h = tf.nn.relu(tf.matmul(x, w1))  # Hidden layer: h has shape (N, H)\n",
        "    scores = tf.matmul(h, w2)         # Compute scores of shape (N, C)\n",
        "    return scores"
      ]
    },
    {
      "cell_type": "code",
      "execution_count": 9,
      "metadata": {
        "tags": [
          "pdf-ignore-input"
        ],
        "colab": {
          "base_uri": "https://localhost:8080/"
        },
        "id": "yHjz69taTKC_",
        "outputId": "4b319af9-4929-485e-c1cf-5260d90e08b8"
      },
      "outputs": [
        {
          "output_type": "stream",
          "name": "stdout",
          "text": [
            "(64, 10)\n"
          ]
        }
      ],
      "source": [
        "def two_layer_fc_test():\n",
        "    hidden_layer_size = 42\n",
        "\n",
        "    # Scoping our TF operations under a tf.device context manager \n",
        "    # lets us tell TensorFlow where we want these Tensors to be\n",
        "    # multiplied and/or operated on, e.g. on a CPU or a GPU.\n",
        "    with tf.device(device):        \n",
        "        x = tf.zeros((64, 32, 32, 3))\n",
        "        w1 = tf.zeros((32 * 32 * 3, hidden_layer_size))\n",
        "        w2 = tf.zeros((hidden_layer_size, 10))\n",
        "\n",
        "        # Call our two_layer_fc function for the forward pass of the network.\n",
        "        scores = two_layer_fc(x, [w1, w2])\n",
        "\n",
        "    print(scores.shape)\n",
        "\n",
        "two_layer_fc_test()"
      ]
    },
    {
      "cell_type": "markdown",
      "metadata": {
        "id": "404lvlnMTKDA"
      },
      "source": [
        "### Barebones TensorFlow: Three-Layer ConvNet\n",
        "Here you will complete the implementation of the function `three_layer_convnet` which will perform the forward pass of a three-layer convolutional network. The network should have the following architecture:\n",
        "\n",
        "1. A convolutional layer (with bias) with `channel_1` filters, each with shape `KW1 x KH1`, and zero-padding of two\n",
        "2. ReLU nonlinearity\n",
        "3. A convolutional layer (with bias) with `channel_2` filters, each with shape `KW2 x KH2`, and zero-padding of one\n",
        "4. ReLU nonlinearity\n",
        "5. Fully-connected layer with bias, producing scores for `C` classes.\n",
        "\n",
        "**HINT**: For convolutions: https://www.tensorflow.org/versions/r2.0/api_docs/python/tf/nn/conv2d; be careful with padding!\n",
        "\n",
        "**HINT**: For biases: https://www.tensorflow.org/performance/xla/broadcasting"
      ]
    },
    {
      "cell_type": "code",
      "execution_count": 10,
      "metadata": {
        "id": "2XACWm2HTKDA"
      },
      "outputs": [],
      "source": [
        "def three_layer_convnet(x, params):\n",
        "    \"\"\"\n",
        "    A three-layer convolutional network with the architecture described above.\n",
        "    \n",
        "    Inputs:\n",
        "    - x: A TensorFlow Tensor of shape (N, H, W, 3) giving a minibatch of images\n",
        "    - params: A list of TensorFlow Tensors giving the weights and biases for the\n",
        "      network; should contain the following:\n",
        "      - conv_w1: TensorFlow Tensor of shape (KH1, KW1, 3, channel_1) giving\n",
        "        weights for the first convolutional layer.\n",
        "      - conv_b1: TensorFlow Tensor of shape (channel_1,) giving biases for the\n",
        "        first convolutional layer.\n",
        "      - conv_w2: TensorFlow Tensor of shape (KH2, KW2, channel_1, channel_2)\n",
        "        giving weights for the second convolutional layer\n",
        "      - conv_b2: TensorFlow Tensor of shape (channel_2,) giving biases for the\n",
        "        second convolutional layer.\n",
        "      - fc_w: TensorFlow Tensor giving weights for the fully-connected layer.\n",
        "        Can you figure out what the shape should be?\n",
        "      - fc_b: TensorFlow Tensor giving biases for the fully-connected layer.\n",
        "        Can you figure out what the shape should be?\n",
        "    \"\"\"\n",
        "    conv_w1, conv_b1, conv_w2, conv_b2, fc_w, fc_b = params\n",
        "    scores = None\n",
        "    ############################################################################\n",
        "    # TODO: Implement the forward pass for the three-layer ConvNet.            #\n",
        "    ############################################################################\n",
        "    # *****START OF YOUR CODE (DO NOT DELETE/MODIFY THIS LINE)*****\n",
        "\n",
        "    h1 = tf.nn.conv2d(x, filters=conv_w1, strides=1, padding=[[0, 0], [2, 2], [2, 2], [0, 0]]) + conv_b1\n",
        "    h1 = tf.nn.relu(h1)\n",
        "    h2 = tf.nn.conv2d(h1, filters=conv_w2, strides=1, padding=[[0, 0], [1, 1], [1, 1], [0, 0]]) + conv_b2\n",
        "    h2 = tf.nn.relu(h2)\n",
        "    h2 = flatten(h2)\n",
        "    scores = tf.matmul(h2, fc_w) + fc_b \n",
        "\n",
        "    # *****END OF YOUR CODE (DO NOT DELETE/MODIFY THIS LINE)*****\n",
        "    ############################################################################\n",
        "    #                              END OF YOUR CODE                            #\n",
        "    ############################################################################\n",
        "    return scores"
      ]
    },
    {
      "cell_type": "markdown",
      "metadata": {
        "id": "zzuTKc2eTKDA"
      },
      "source": [
        "After defing the forward pass of the three-layer ConvNet above, run the following cell to test your implementation. Like the two-layer network, we run the graph on a batch of zeros just to make sure the function doesn't crash, and produces outputs of the correct shape.\n",
        "\n",
        "When you run this function, `scores_np` should have shape `(64, 10)`."
      ]
    },
    {
      "cell_type": "code",
      "execution_count": 11,
      "metadata": {
        "jupyter": {
          "outputs_hidden": true
        },
        "tags": [
          "pdf-ignore-input"
        ],
        "colab": {
          "base_uri": "https://localhost:8080/"
        },
        "id": "LPTwhOAhTKDB",
        "outputId": "157479b0-39d8-4029-a96b-322b090aacc2"
      },
      "outputs": [
        {
          "output_type": "stream",
          "name": "stdout",
          "text": [
            "scores_np has shape:  (64, 10)\n"
          ]
        }
      ],
      "source": [
        "def three_layer_convnet_test():\n",
        "    \n",
        "    with tf.device(device):\n",
        "        x = tf.zeros((64, 32, 32, 3))\n",
        "        conv_w1 = tf.zeros((5, 5, 3, 6))\n",
        "        conv_b1 = tf.zeros((6,))\n",
        "        conv_w2 = tf.zeros((3, 3, 6, 9))\n",
        "        conv_b2 = tf.zeros((9,))\n",
        "        fc_w = tf.zeros((32 * 32 * 9, 10))\n",
        "        fc_b = tf.zeros((10,))\n",
        "        params = [conv_w1, conv_b1, conv_w2, conv_b2, fc_w, fc_b]\n",
        "        scores = three_layer_convnet(x, params)\n",
        "\n",
        "    # Inputs to convolutional layers are 4-dimensional arrays with shape\n",
        "    # [batch_size, height, width, channels]\n",
        "    print('scores_np has shape: ', scores.shape)\n",
        "\n",
        "three_layer_convnet_test()"
      ]
    },
    {
      "cell_type": "markdown",
      "metadata": {
        "id": "4nYgFBrRTKDB"
      },
      "source": [
        "### Barebones TensorFlow: Training Step\n",
        "\n",
        "We now define the `training_step` function performs a single training step. This will take three basic steps:\n",
        "\n",
        "1. Compute the loss\n",
        "2. Compute the gradient of the loss with respect to all network weights\n",
        "3. Make a weight update step using (stochastic) gradient descent.\n",
        "\n",
        "\n",
        "We need to use a few new TensorFlow functions to do all of this:\n",
        "- For computing the cross-entropy loss we'll use `tf.nn.sparse_softmax_cross_entropy_with_logits`: https://www.tensorflow.org/versions/r2.0/api_docs/python/tf/nn/sparse_softmax_cross_entropy_with_logits\n",
        "\n",
        "- For averaging the loss across a minibatch of data we'll use `tf.reduce_mean`:\n",
        "https://www.tensorflow.org/versions/r2.0/api_docs/python/tf/reduce_mean\n",
        "\n",
        "- For computing gradients of the loss with respect to the weights we'll use `tf.GradientTape` (useful for Eager execution):  https://www.tensorflow.org/versions/r2.0/api_docs/python/tf/GradientTape\n",
        "\n",
        "- We'll mutate the weight values stored in a TensorFlow Tensor using `tf.assign_sub` (\"sub\" is for subtraction): https://www.tensorflow.org/api_docs/python/tf/assign_sub \n"
      ]
    },
    {
      "cell_type": "code",
      "execution_count": 12,
      "metadata": {
        "tags": [
          "pdf-ignore"
        ],
        "id": "qIB9HXVqTKDC"
      },
      "outputs": [],
      "source": [
        "def training_step(model_fn, x, y, params, learning_rate):\n",
        "    with tf.GradientTape() as tape:\n",
        "        scores = model_fn(x, params) # Forward pass of the model\n",
        "        loss = tf.nn.sparse_softmax_cross_entropy_with_logits(labels=y, logits=scores)\n",
        "        total_loss = tf.reduce_mean(loss)\n",
        "        grad_params = tape.gradient(total_loss, params)\n",
        "\n",
        "        # Make a vanilla gradient descent step on all of the model parameters\n",
        "        # Manually update the weights using assign_sub()\n",
        "        for w, grad_w in zip(params, grad_params):\n",
        "            w.assign_sub(learning_rate * grad_w)\n",
        "                        \n",
        "        return total_loss"
      ]
    },
    {
      "cell_type": "code",
      "execution_count": 13,
      "metadata": {
        "tags": [
          "pdf-ignore"
        ],
        "id": "7M7NMxKkTKDC"
      },
      "outputs": [],
      "source": [
        "def train_part2(model_fn, init_fn, learning_rate, epochs):\n",
        "    \"\"\"\n",
        "    Train a model on CIFAR-10.\n",
        "    \n",
        "    Inputs:\n",
        "    - model_fn: A Python function that performs the forward pass of the model\n",
        "      using TensorFlow; it should have the following signature:\n",
        "      scores = model_fn(x, params) where x is a TensorFlow Tensor giving a\n",
        "      minibatch of image data, params is a list of TensorFlow Tensors holding\n",
        "      the model weights, and scores is a TensorFlow Tensor of shape (N, C)\n",
        "      giving scores for all elements of x.\n",
        "    - init_fn: A Python function that initializes the parameters of the model.\n",
        "      It should have the signature params = init_fn() where params is a list\n",
        "      of TensorFlow Tensors holding the (randomly initialized) weights of the\n",
        "      model.\n",
        "    - learning_rate: Python float giving the learning rate to use for SGD.\n",
        "    \"\"\"\n",
        "    \n",
        "    \n",
        "    params = init_fn()  # Initialize the model parameters            \n",
        "    for e in range(epochs):    \n",
        "        for t, (x_np, y_np) in enumerate(train_dset):\n",
        "            # Run the graph on a batch of training data.\n",
        "            loss = training_step(model_fn, x_np, y_np, params, learning_rate)\n",
        "\n",
        "            # Periodically print the loss and check accuracy on the val set.\n",
        "            if t % print_every == 0:\n",
        "                print('Epoch %d, iteration %d, loss = %.4f' % (e, t, loss))\n",
        "                print('Validation:')\n",
        "                check_accuracy(val_dset, model_fn, params)\n",
        "    return params\n",
        "                "
      ]
    },
    {
      "cell_type": "code",
      "execution_count": 14,
      "metadata": {
        "tags": [
          "pdf-ignore"
        ],
        "id": "n11p8DadTKDC"
      },
      "outputs": [],
      "source": [
        "def check_accuracy(dset, model_fn, params):\n",
        "    \"\"\"\n",
        "    Check accuracy on a classification model, e.g. for validation.\n",
        "    \n",
        "    Inputs:\n",
        "    - dset: A Dataset object against which to check accuracy\n",
        "    - x: A TensorFlow placeholder Tensor where input images should be fed\n",
        "    - model_fn: the Model we will be calling to make predictions on x\n",
        "    - params: parameters for the model_fn to work with\n",
        "      \n",
        "    Returns: Nothing, but prints the accuracy of the model\n",
        "    \"\"\"\n",
        "    num_correct, num_samples = 0, 0\n",
        "    for x_batch, y_batch in dset:\n",
        "        scores_np = model_fn(x_batch, params).numpy()\n",
        "        y_pred = scores_np.argmax(axis=1)\n",
        "        num_samples += x_batch.shape[0]\n",
        "        num_correct += (y_pred == y_batch).sum()\n",
        "    acc = float(num_correct) / num_samples\n",
        "    print('     Got %d / %d correct (%.2f%%)' % (num_correct, num_samples, 100 * acc))"
      ]
    },
    {
      "cell_type": "markdown",
      "metadata": {
        "id": "ie7uYl-kTKDD"
      },
      "source": [
        "### Barebones TensorFlow: Initialization\n",
        "We'll use the following utility method to initialize the weight matrices for our models using Kaiming's normalization method.\n",
        "\n",
        "[1] He et al, *Delving Deep into Rectifiers: Surpassing Human-Level Performance on ImageNet Classification\n",
        "*, ICCV 2015, https://arxiv.org/abs/1502.01852"
      ]
    },
    {
      "cell_type": "code",
      "execution_count": 15,
      "metadata": {
        "id": "SUDrtqgkTKDD"
      },
      "outputs": [],
      "source": [
        "def create_matrix_with_kaiming_normal(shape):\n",
        "    if len(shape) == 2:\n",
        "        fan_in, fan_out = shape[0], shape[1]\n",
        "    elif len(shape) == 4:\n",
        "        fan_in, fan_out = np.prod(shape[:3]), shape[3]\n",
        "    return tf.keras.backend.random_normal(shape) * np.sqrt(2.0 / fan_in)"
      ]
    },
    {
      "cell_type": "markdown",
      "metadata": {
        "id": "O42v8NEmTKDD"
      },
      "source": [
        "### Barebones TensorFlow: Train a Two-Layer Network\n",
        "We are finally ready to use all of the pieces defined above to train a two-layer fully-connected network on CIFAR-10.\n",
        "\n",
        "We just need to define a function to initialize the weights of the model, and call `train_part2`.\n",
        "\n",
        "Defining the weights of the network introduces another important piece of TensorFlow API: `tf.Variable`. A TensorFlow Variable is a Tensor whose value is stored in the graph and persists across runs of the computational graph; however unlike constants defined with `tf.zeros` or `tf.random_normal`, the values of a Variable can be mutated as the graph runs; these mutations will persist across graph runs. Learnable parameters of the network are usually stored in Variables.\n",
        "\n",
        "You don't need to tune any hyperparameters, but you should achieve validation accuracies above 40% after one epoch of training."
      ]
    },
    {
      "cell_type": "code",
      "execution_count": 16,
      "metadata": {
        "jupyter": {
          "outputs_hidden": true
        },
        "colab": {
          "base_uri": "https://localhost:8080/"
        },
        "id": "fimRf0rXTKDD",
        "outputId": "30b1cec3-f77a-4b6e-8f0b-5b396e64409c"
      },
      "outputs": [
        {
          "output_type": "stream",
          "name": "stdout",
          "text": [
            "Train\n",
            "Epoch 0, iteration 0, loss = 3.0964\n",
            "Validation:\n",
            "     Got 118 / 1000 correct (11.80%)\n",
            "Epoch 0, iteration 100, loss = 1.8599\n",
            "Validation:\n",
            "     Got 386 / 1000 correct (38.60%)\n",
            "Epoch 0, iteration 200, loss = 1.4320\n",
            "Validation:\n",
            "     Got 393 / 1000 correct (39.30%)\n",
            "Epoch 0, iteration 300, loss = 1.9087\n",
            "Validation:\n",
            "     Got 361 / 1000 correct (36.10%)\n",
            "Epoch 0, iteration 400, loss = 1.8106\n",
            "Validation:\n",
            "     Got 440 / 1000 correct (44.00%)\n",
            "Epoch 0, iteration 500, loss = 1.7674\n",
            "Validation:\n",
            "     Got 435 / 1000 correct (43.50%)\n",
            "Epoch 0, iteration 600, loss = 1.7390\n",
            "Validation:\n",
            "     Got 436 / 1000 correct (43.60%)\n",
            "Epoch 0, iteration 700, loss = 1.9938\n",
            "Validation:\n",
            "     Got 444 / 1000 correct (44.40%)\n",
            "Epoch 1, iteration 0, loss = 1.4510\n",
            "Validation:\n",
            "     Got 451 / 1000 correct (45.10%)\n",
            "Epoch 1, iteration 100, loss = 1.4543\n",
            "Validation:\n",
            "     Got 482 / 1000 correct (48.20%)\n",
            "Epoch 1, iteration 200, loss = 1.2025\n",
            "Validation:\n",
            "     Got 476 / 1000 correct (47.60%)\n",
            "Epoch 1, iteration 300, loss = 1.6315\n",
            "Validation:\n",
            "     Got 442 / 1000 correct (44.20%)\n",
            "Epoch 1, iteration 400, loss = 1.4602\n",
            "Validation:\n",
            "     Got 482 / 1000 correct (48.20%)\n",
            "Epoch 1, iteration 500, loss = 1.5740\n",
            "Validation:\n",
            "     Got 479 / 1000 correct (47.90%)\n",
            "Epoch 1, iteration 600, loss = 1.5533\n",
            "Validation:\n",
            "     Got 478 / 1000 correct (47.80%)\n",
            "Epoch 1, iteration 700, loss = 1.6683\n",
            "Validation:\n",
            "     Got 486 / 1000 correct (48.60%)\n",
            "Epoch 2, iteration 0, loss = 1.3039\n",
            "Validation:\n",
            "     Got 476 / 1000 correct (47.60%)\n",
            "Epoch 2, iteration 100, loss = 1.3496\n",
            "Validation:\n",
            "     Got 508 / 1000 correct (50.80%)\n",
            "Epoch 2, iteration 200, loss = 1.0816\n",
            "Validation:\n",
            "     Got 503 / 1000 correct (50.30%)\n",
            "Epoch 2, iteration 300, loss = 1.4758\n",
            "Validation:\n",
            "     Got 460 / 1000 correct (46.00%)\n",
            "Epoch 2, iteration 400, loss = 1.2687\n",
            "Validation:\n",
            "     Got 492 / 1000 correct (49.20%)\n",
            "Epoch 2, iteration 500, loss = 1.4778\n",
            "Validation:\n",
            "     Got 498 / 1000 correct (49.80%)\n",
            "Epoch 2, iteration 600, loss = 1.4370\n",
            "Validation:\n",
            "     Got 496 / 1000 correct (49.60%)\n",
            "Epoch 2, iteration 700, loss = 1.5094\n",
            "Validation:\n",
            "     Got 506 / 1000 correct (50.60%)\n",
            "Epoch 3, iteration 0, loss = 1.2048\n",
            "Validation:\n",
            "     Got 492 / 1000 correct (49.20%)\n",
            "Epoch 3, iteration 100, loss = 1.2715\n",
            "Validation:\n",
            "     Got 528 / 1000 correct (52.80%)\n",
            "Epoch 3, iteration 200, loss = 0.9926\n",
            "Validation:\n",
            "     Got 520 / 1000 correct (52.00%)\n",
            "Epoch 3, iteration 300, loss = 1.3638\n",
            "Validation:\n",
            "     Got 482 / 1000 correct (48.20%)\n",
            "Epoch 3, iteration 400, loss = 1.1329\n",
            "Validation:\n",
            "     Got 497 / 1000 correct (49.70%)\n",
            "Epoch 3, iteration 500, loss = 1.3909\n",
            "Validation:\n",
            "     Got 501 / 1000 correct (50.10%)\n",
            "Epoch 3, iteration 600, loss = 1.3339\n",
            "Validation:\n",
            "     Got 508 / 1000 correct (50.80%)\n",
            "Epoch 3, iteration 700, loss = 1.3950\n",
            "Validation:\n",
            "     Got 520 / 1000 correct (52.00%)\n",
            "Epoch 4, iteration 0, loss = 1.1242\n",
            "Validation:\n",
            "     Got 495 / 1000 correct (49.50%)\n",
            "Epoch 4, iteration 100, loss = 1.1997\n",
            "Validation:\n",
            "     Got 530 / 1000 correct (53.00%)\n",
            "Epoch 4, iteration 200, loss = 0.9157\n",
            "Validation:\n",
            "     Got 536 / 1000 correct (53.60%)\n",
            "Epoch 4, iteration 300, loss = 1.2802\n",
            "Validation:\n",
            "     Got 491 / 1000 correct (49.10%)\n",
            "Epoch 4, iteration 400, loss = 1.0251\n",
            "Validation:\n",
            "     Got 505 / 1000 correct (50.50%)\n",
            "Epoch 4, iteration 500, loss = 1.3087\n",
            "Validation:\n",
            "     Got 504 / 1000 correct (50.40%)\n",
            "Epoch 4, iteration 600, loss = 1.2462\n",
            "Validation:\n",
            "     Got 518 / 1000 correct (51.80%)\n",
            "Epoch 4, iteration 700, loss = 1.2970\n",
            "Validation:\n",
            "     Got 524 / 1000 correct (52.40%)\n",
            "Done!\n"
          ]
        }
      ],
      "source": [
        "def two_layer_fc_init():\n",
        "    \"\"\"\n",
        "    Initialize the weights of a two-layer network, for use with the\n",
        "    two_layer_network function defined above. \n",
        "    You can use the `create_matrix_with_kaiming_normal` helper!\n",
        "    \n",
        "    Inputs: None\n",
        "    \n",
        "    Returns: A list of:\n",
        "    - w1: TensorFlow tf.Variable giving the weights for the first layer\n",
        "    - w2: TensorFlow tf.Variable giving the weights for the second layer\n",
        "    \"\"\"\n",
        "    hidden_layer_size = 4000\n",
        "    w1 = tf.Variable(create_matrix_with_kaiming_normal((3 * 32 * 32, 4000)))\n",
        "    w2 = tf.Variable(create_matrix_with_kaiming_normal((4000, 10)))\n",
        "    return [w1, w2]\n",
        "\n",
        "learning_rate = 1e-2\n",
        "print('Train')\n",
        "trained_params = train_part2(two_layer_fc, two_layer_fc_init, learning_rate,5)\n",
        "print('Done!')"
      ]
    },
    {
      "cell_type": "markdown",
      "metadata": {
        "id": "S1tQ34EITKDE"
      },
      "source": [
        "### Test Set - DO THIS ONLY ONCE\n",
        "Now that we've gotten a result that we're happy with, we test our final model on the test set. This would be the score we would achieve on a competition. Think about how this compares to your validation set accuracy."
      ]
    },
    {
      "cell_type": "code",
      "execution_count": 17,
      "metadata": {
        "colab": {
          "base_uri": "https://localhost:8080/"
        },
        "id": "_UNi5WFWTKDE",
        "outputId": "6036977a-ea85-4832-9d4d-6f8b474b887b"
      },
      "outputs": [
        {
          "output_type": "stream",
          "name": "stdout",
          "text": [
            "Test\n",
            "     Got 5040 / 10000 correct (50.40%)\n"
          ]
        }
      ],
      "source": [
        "print('Test')\n",
        "check_accuracy(test_dset, two_layer_fc, trained_params)"
      ]
    },
    {
      "cell_type": "markdown",
      "metadata": {
        "id": "lKS_Mb8NTKDE"
      },
      "source": [
        "### Barebones TensorFlow: Train a three-layer ConvNet\n",
        "We will now use TensorFlow to train a three-layer ConvNet on CIFAR-10.\n",
        "\n",
        "You need to implement the `three_layer_convnet_init` function. Recall that the architecture of the network is:\n",
        "\n",
        "1. Convolutional layer (with bias) with 32 5x5 filters, with zero-padding 2\n",
        "2. ReLU\n",
        "3. Convolutional layer (with bias) with 16 3x3 filters, with zero-padding 1\n",
        "4. ReLU\n",
        "5. Fully-connected layer (with bias) to compute scores for 10 classes\n",
        "\n",
        "You don't need to do any hyperparameter tuning, but you should see validation accuracies above 43% after one epoch of training."
      ]
    },
    {
      "cell_type": "code",
      "execution_count": 18,
      "metadata": {
        "colab": {
          "base_uri": "https://localhost:8080/"
        },
        "id": "nv5VrN2gTKDE",
        "outputId": "6acb0b98-17ad-4bbb-8dc7-da97c6daa92d"
      },
      "outputs": [
        {
          "output_type": "stream",
          "name": "stdout",
          "text": [
            "Epoch 0, iteration 0, loss = 2.7977\n",
            "Validation:\n",
            "     Got 93 / 1000 correct (9.30%)\n",
            "Epoch 0, iteration 100, loss = 1.7660\n",
            "Validation:\n",
            "     Got 348 / 1000 correct (34.80%)\n",
            "Epoch 0, iteration 200, loss = 1.6361\n",
            "Validation:\n",
            "     Got 402 / 1000 correct (40.20%)\n",
            "Epoch 0, iteration 300, loss = 1.6854\n",
            "Validation:\n",
            "     Got 404 / 1000 correct (40.40%)\n",
            "Epoch 0, iteration 400, loss = 1.6117\n",
            "Validation:\n",
            "     Got 433 / 1000 correct (43.30%)\n",
            "Epoch 0, iteration 500, loss = 1.7295\n",
            "Validation:\n",
            "     Got 445 / 1000 correct (44.50%)\n",
            "Epoch 0, iteration 600, loss = 1.6955\n",
            "Validation:\n",
            "     Got 463 / 1000 correct (46.30%)\n",
            "Epoch 0, iteration 700, loss = 1.6065\n",
            "Validation:\n",
            "     Got 470 / 1000 correct (47.00%)\n",
            "Epoch 1, iteration 0, loss = 1.3995\n",
            "Validation:\n",
            "     Got 489 / 1000 correct (48.90%)\n",
            "Epoch 1, iteration 100, loss = 1.2926\n",
            "Validation:\n",
            "     Got 505 / 1000 correct (50.50%)\n",
            "Epoch 1, iteration 200, loss = 1.2834\n",
            "Validation:\n",
            "     Got 487 / 1000 correct (48.70%)\n",
            "Epoch 1, iteration 300, loss = 1.4382\n",
            "Validation:\n",
            "     Got 483 / 1000 correct (48.30%)\n",
            "Epoch 1, iteration 400, loss = 1.2766\n",
            "Validation:\n",
            "     Got 502 / 1000 correct (50.20%)\n",
            "Epoch 1, iteration 500, loss = 1.5556\n",
            "Validation:\n",
            "     Got 504 / 1000 correct (50.40%)\n",
            "Epoch 1, iteration 600, loss = 1.5228\n",
            "Validation:\n",
            "     Got 515 / 1000 correct (51.50%)\n",
            "Epoch 1, iteration 700, loss = 1.4948\n",
            "Validation:\n",
            "     Got 518 / 1000 correct (51.80%)\n",
            "Epoch 2, iteration 0, loss = 1.2752\n",
            "Validation:\n",
            "     Got 529 / 1000 correct (52.90%)\n",
            "Epoch 2, iteration 100, loss = 1.1771\n",
            "Validation:\n",
            "     Got 546 / 1000 correct (54.60%)\n",
            "Epoch 2, iteration 200, loss = 1.1330\n",
            "Validation:\n",
            "     Got 531 / 1000 correct (53.10%)\n",
            "Epoch 2, iteration 300, loss = 1.3367\n",
            "Validation:\n",
            "     Got 511 / 1000 correct (51.10%)\n",
            "Epoch 2, iteration 400, loss = 1.1459\n",
            "Validation:\n",
            "     Got 533 / 1000 correct (53.30%)\n",
            "Epoch 2, iteration 500, loss = 1.4450\n",
            "Validation:\n",
            "     Got 529 / 1000 correct (52.90%)\n",
            "Epoch 2, iteration 600, loss = 1.4606\n",
            "Validation:\n",
            "     Got 534 / 1000 correct (53.40%)\n",
            "Epoch 2, iteration 700, loss = 1.4002\n",
            "Validation:\n",
            "     Got 545 / 1000 correct (54.50%)\n",
            "Epoch 3, iteration 0, loss = 1.2160\n",
            "Validation:\n",
            "     Got 545 / 1000 correct (54.50%)\n",
            "Epoch 3, iteration 100, loss = 1.1021\n",
            "Validation:\n",
            "     Got 553 / 1000 correct (55.30%)\n",
            "Epoch 3, iteration 200, loss = 1.0546\n",
            "Validation:\n",
            "     Got 550 / 1000 correct (55.00%)\n",
            "Epoch 3, iteration 300, loss = 1.2645\n",
            "Validation:\n",
            "     Got 537 / 1000 correct (53.70%)\n",
            "Epoch 3, iteration 400, loss = 1.0733\n",
            "Validation:\n",
            "     Got 546 / 1000 correct (54.60%)\n",
            "Epoch 3, iteration 500, loss = 1.3807\n",
            "Validation:\n",
            "     Got 551 / 1000 correct (55.10%)\n",
            "Epoch 3, iteration 600, loss = 1.4097\n",
            "Validation:\n",
            "     Got 551 / 1000 correct (55.10%)\n",
            "Epoch 3, iteration 700, loss = 1.3162\n",
            "Validation:\n",
            "     Got 547 / 1000 correct (54.70%)\n",
            "Epoch 4, iteration 0, loss = 1.1663\n",
            "Validation:\n",
            "     Got 548 / 1000 correct (54.80%)\n",
            "Epoch 4, iteration 100, loss = 1.0363\n",
            "Validation:\n",
            "     Got 568 / 1000 correct (56.80%)\n",
            "Epoch 4, iteration 200, loss = 1.0030\n",
            "Validation:\n",
            "     Got 564 / 1000 correct (56.40%)\n",
            "Epoch 4, iteration 300, loss = 1.2089\n",
            "Validation:\n",
            "     Got 550 / 1000 correct (55.00%)\n",
            "Epoch 4, iteration 400, loss = 1.0237\n",
            "Validation:\n",
            "     Got 553 / 1000 correct (55.30%)\n",
            "Epoch 4, iteration 500, loss = 1.3306\n",
            "Validation:\n",
            "     Got 558 / 1000 correct (55.80%)\n",
            "Epoch 4, iteration 600, loss = 1.3441\n",
            "Validation:\n",
            "     Got 563 / 1000 correct (56.30%)\n",
            "Epoch 4, iteration 700, loss = 1.2374\n",
            "Validation:\n",
            "     Got 568 / 1000 correct (56.80%)\n"
          ]
        },
        {
          "output_type": "execute_result",
          "data": {
            "text/plain": [
              "[<tf.Variable 'Variable:0' shape=(5, 5, 3, 32) dtype=float32, numpy=\n",
              " array([[[[ 0.20896056, -0.3716982 , -0.30660084, ...,  0.02128566,\n",
              "            0.24620551,  0.25842226],\n",
              "          [-0.1547166 ,  0.19215882, -0.19717008, ...,  0.13746822,\n",
              "            0.10676388,  0.06134184],\n",
              "          [ 0.01188686, -0.02135522,  0.09274427, ..., -0.0174309 ,\n",
              "           -0.07083385, -0.09534045]],\n",
              " \n",
              "         [[-0.04439178,  0.00361158, -0.18610457, ..., -0.04180804,\n",
              "            0.1192582 ,  0.09972038],\n",
              "          [ 0.09644775, -0.09799948, -0.1372271 , ...,  0.07700913,\n",
              "            0.10881334,  0.20597021],\n",
              "          [ 0.02521149, -0.03816693,  0.17846361, ..., -0.21006724,\n",
              "           -0.06512272, -0.05187035]],\n",
              " \n",
              "         [[ 0.20019291, -0.0930659 , -0.12667418, ...,  0.3887614 ,\n",
              "            0.06225359, -0.1711889 ],\n",
              "          [ 0.16270871,  0.38030788,  0.11900433, ..., -0.3325741 ,\n",
              "           -0.25954026,  0.02634604],\n",
              "          [-0.12480309, -0.12408116, -0.03680571, ...,  0.01654557,\n",
              "            0.09976725, -0.09897444]],\n",
              " \n",
              "         [[ 0.01344391,  0.08871926, -0.14589041, ...,  0.00286888,\n",
              "           -0.19803359, -0.0213696 ],\n",
              "          [ 0.16474935,  0.26867616, -0.12216283, ..., -0.01744462,\n",
              "            0.23811008,  0.14955667],\n",
              "          [-0.20833655,  0.11124337,  0.17640114, ..., -0.299213  ,\n",
              "           -0.26428765,  0.00741338]],\n",
              " \n",
              "         [[-0.23071161, -0.37844697, -0.34306276, ..., -0.11213344,\n",
              "           -0.0126921 ,  0.2147098 ],\n",
              "          [ 0.07863636, -0.12408665,  0.14127356, ...,  0.22189078,\n",
              "           -0.1536999 ,  0.0601044 ],\n",
              "          [-0.058426  , -0.10015287,  0.20729762, ...,  0.11498064,\n",
              "            0.25616014, -0.2585716 ]]],\n",
              " \n",
              " \n",
              "        [[[-0.12776743,  0.13094902, -0.18204954, ...,  0.07675289,\n",
              "            0.33162978, -0.26738656],\n",
              "          [-0.21045727,  0.13834807,  0.04519594, ...,  0.07532863,\n",
              "            0.07543314, -0.21507005],\n",
              "          [-0.1946772 ,  0.03817033,  0.20883146, ..., -0.315823  ,\n",
              "            0.06834935, -0.21659759]],\n",
              " \n",
              "         [[-0.12668142, -0.00122499, -0.07502513, ...,  0.18807259,\n",
              "            0.10700347, -0.02501793],\n",
              "          [-0.04287047, -0.06749456,  0.19828455, ...,  0.06276725,\n",
              "           -0.25656214, -0.05753419],\n",
              "          [ 0.13318862,  0.13720156, -0.15006562, ...,  0.02575131,\n",
              "           -0.1104188 ,  0.23601906]],\n",
              " \n",
              "         [[-0.05497346,  0.10736601,  0.2375565 , ...,  0.2006233 ,\n",
              "            0.12698585, -0.16011716],\n",
              "          [-0.06368328, -0.01625919, -0.01808433, ..., -0.03245115,\n",
              "           -0.23076014,  0.19679758],\n",
              "          [ 0.2972971 ,  0.10985081,  0.07709251, ..., -0.01186444,\n",
              "            0.04382804,  0.09380583]],\n",
              " \n",
              "         [[ 0.0168551 , -0.5351043 ,  0.05963821, ..., -0.06781648,\n",
              "            0.2338993 , -0.1706732 ],\n",
              "          [-0.02338726,  0.10990614,  0.32024267, ..., -0.19959275,\n",
              "            0.13156757, -0.17251976],\n",
              "          [-0.26598892, -0.02050507,  0.24137147, ..., -0.12468357,\n",
              "           -0.00723636, -0.24225551]],\n",
              " \n",
              "         [[-0.09513395, -0.5325103 , -0.24426016, ..., -0.03323075,\n",
              "           -0.00847708,  0.11078   ],\n",
              "          [ 0.18064627, -0.1392392 ,  0.2199197 , ...,  0.02609941,\n",
              "           -0.2299255 , -0.23100746],\n",
              "          [ 0.03289915, -0.07259513, -0.13966468, ...,  0.13082148,\n",
              "            0.16020246, -0.27031705]]],\n",
              " \n",
              " \n",
              "        [[[ 0.19183289, -0.04744513, -0.14334229, ..., -0.0357602 ,\n",
              "            0.01334532,  0.29317945],\n",
              "          [-0.04681283,  0.06856978, -0.14635967, ..., -0.18373719,\n",
              "           -0.14637259,  0.04379952],\n",
              "          [ 0.17806096, -0.09564178, -0.16980736, ...,  0.2763122 ,\n",
              "            0.08412945,  0.18903446]],\n",
              " \n",
              "         [[ 0.05878422,  0.01162648,  0.07969589, ..., -0.07884134,\n",
              "           -0.19568937,  0.1589995 ],\n",
              "          [-0.00595836,  0.00919791,  0.07858872, ..., -0.05686872,\n",
              "           -0.26740184,  0.08294592],\n",
              "          [-0.06664331,  0.01599437,  0.01271367, ..., -0.07142485,\n",
              "           -0.30646208,  0.13943182]],\n",
              " \n",
              "         [[ 0.04321747,  0.16584054,  0.06686157, ...,  0.00167195,\n",
              "            0.08635766, -0.05876187],\n",
              "          [-0.05587959,  0.14319153,  0.15021376, ...,  0.11473113,\n",
              "           -0.15530367,  0.16714172],\n",
              "          [ 0.04252745,  0.22708406,  0.28846782, ..., -0.13881522,\n",
              "            0.10988319,  0.11750815]],\n",
              " \n",
              "         [[-0.1023492 ,  0.01581703,  0.27765   , ...,  0.04291134,\n",
              "           -0.05420065, -0.13605349],\n",
              "          [-0.28495464, -0.00164151, -0.18500882, ...,  0.0343505 ,\n",
              "            0.39409903, -0.10227544],\n",
              "          [-0.07821353,  0.15225674,  0.02574606, ...,  0.0676672 ,\n",
              "           -0.15074188, -0.05304862]],\n",
              " \n",
              "         [[ 0.22661547,  0.02642798,  0.12435192, ...,  0.04424986,\n",
              "           -0.05903345,  0.08452486],\n",
              "          [ 0.2183278 ,  0.35140827, -0.31957543, ...,  0.17125203,\n",
              "           -0.10505576,  0.18748763],\n",
              "          [ 0.01184621, -0.31973165,  0.29612875, ..., -0.17124408,\n",
              "           -0.09747711,  0.06848893]]],\n",
              " \n",
              " \n",
              "        [[[ 0.02105082, -0.04953334, -0.1627403 , ..., -0.1370673 ,\n",
              "           -0.1739812 , -0.06176377],\n",
              "          [-0.15228657,  0.33952892,  0.14214554, ..., -0.09856631,\n",
              "            0.05974198,  0.06801535],\n",
              "          [ 0.18223162,  0.15218088,  0.07321902, ...,  0.1164187 ,\n",
              "            0.09269513, -0.19160162]],\n",
              " \n",
              "         [[-0.12491952,  0.1198467 ,  0.05668187, ..., -0.18183184,\n",
              "           -0.04330266, -0.17465447],\n",
              "          [ 0.06267653, -0.13987784, -0.13480282, ...,  0.16319774,\n",
              "           -0.10963707,  0.24079579],\n",
              "          [-0.32768345, -0.31795093,  0.13502504, ..., -0.24703746,\n",
              "            0.10155844, -0.23705721]],\n",
              " \n",
              "         [[-0.16535081, -0.05444546, -0.13454872, ...,  0.19652095,\n",
              "            0.06255144,  0.04600879],\n",
              "          [ 0.09898163,  0.10615474, -0.03438863, ..., -0.61621547,\n",
              "           -0.15602922,  0.07006036],\n",
              "          [ 0.03049106, -0.03457916, -0.03471486, ...,  0.11636244,\n",
              "           -0.11919495,  0.07800192]],\n",
              " \n",
              "         [[-0.14327718, -0.09050138,  0.13673127, ..., -0.00649087,\n",
              "            0.11478388,  0.07114275],\n",
              "          [-0.10709787, -0.16639528, -0.24510717, ...,  0.12666482,\n",
              "            0.00572307,  0.20503807],\n",
              "          [-0.17560007, -0.23849583,  0.26821363, ..., -0.05702702,\n",
              "           -0.09474087, -0.08678153]],\n",
              " \n",
              "         [[ 0.0169147 , -0.00540902, -0.15879406, ..., -0.00648888,\n",
              "            0.24636807,  0.03390625],\n",
              "          [-0.1748559 , -0.01003062,  0.27255213, ..., -0.09693138,\n",
              "            0.00264909, -0.01633167],\n",
              "          [ 0.10262269,  0.18853994, -0.1054771 , ...,  0.14894302,\n",
              "           -0.01619669,  0.3670345 ]]],\n",
              " \n",
              " \n",
              "        [[[ 0.15877344,  0.44633088, -0.1048976 , ...,  0.16517541,\n",
              "            0.02088123, -0.05232207],\n",
              "          [ 0.18561985, -0.12786801,  0.147069  , ..., -0.39908373,\n",
              "            0.16450931, -0.33945692],\n",
              "          [-0.06616247, -0.06986923, -0.2395054 , ..., -0.10740293,\n",
              "           -0.02811978,  0.15901916]],\n",
              " \n",
              "         [[-0.04815143, -0.03787837, -0.2242079 , ...,  0.12882584,\n",
              "            0.02094462, -0.07784773],\n",
              "          [-0.19821665, -0.1560243 , -0.05423789, ..., -0.00124976,\n",
              "           -0.00777119,  0.04889644],\n",
              "          [-0.24202663, -0.15700127,  0.07976113, ..., -0.18872635,\n",
              "           -0.11585494,  0.00478615]],\n",
              " \n",
              "         [[ 0.19932847,  0.1410607 ,  0.03864185, ...,  0.14681454,\n",
              "           -0.18676873,  0.08721497],\n",
              "          [ 0.2642927 , -0.29929262, -0.01987534, ..., -0.04831428,\n",
              "            0.41073507, -0.14311993],\n",
              "          [-0.2600517 , -0.23133998,  0.05476402, ..., -0.20113634,\n",
              "            0.10028239, -0.08531539]],\n",
              " \n",
              "         [[ 0.28255162, -0.0107785 , -0.4311917 , ..., -0.0706121 ,\n",
              "            0.05838846, -0.08026257],\n",
              "          [-0.27976614, -0.03244253,  0.02602282, ...,  0.17846408,\n",
              "            0.18071355, -0.3046575 ],\n",
              "          [-0.13031863, -0.29395622, -0.08697777, ...,  0.02409376,\n",
              "           -0.3212224 , -0.09668405]],\n",
              " \n",
              "         [[ 0.00177364, -0.01773814, -0.18439426, ...,  0.22215575,\n",
              "            0.07302143,  0.27416027],\n",
              "          [-0.10253555, -0.08238794,  0.05087454, ...,  0.3174858 ,\n",
              "            0.16894597, -0.01497303],\n",
              "          [-0.13969298,  0.18678011,  0.18878274, ..., -0.20683728,\n",
              "           -0.40635917, -0.03898843]]]], dtype=float32)>,\n",
              " <tf.Variable 'Variable:0' shape=(32,) dtype=float32, numpy=\n",
              " array([-0.05242265,  0.04540947,  0.06655757,  0.03101592,  0.03825991,\n",
              "        -0.04917724,  0.09661838,  0.11068223, -0.01190726,  0.07217836,\n",
              "        -0.00618752, -0.03386638,  0.01319606,  0.03332956, -0.00954385,\n",
              "         0.01996124, -0.00484813,  0.10558356,  0.03322212, -0.01277765,\n",
              "        -0.01453621, -0.05513194, -0.0351529 , -0.04937024,  0.1117697 ,\n",
              "         0.01018926, -0.13485274, -0.0709582 , -0.05333943, -0.03874092,\n",
              "        -0.04077572, -0.03355316], dtype=float32)>,\n",
              " <tf.Variable 'Variable:0' shape=(3, 3, 32, 16) dtype=float32, numpy=\n",
              " array([[[[-0.06429352,  0.01994012, -0.00287291, ..., -0.00220111,\n",
              "           -0.11928035, -0.05989269],\n",
              "          [ 0.18644138,  0.00858555, -0.05867764, ..., -0.05805834,\n",
              "           -0.15779418, -0.04427419],\n",
              "          [-0.06686331,  0.05687706, -0.10704171, ..., -0.0555666 ,\n",
              "           -0.05394455,  0.05187358],\n",
              "          ...,\n",
              "          [ 0.03991753,  0.03474147,  0.16006784, ...,  0.14765774,\n",
              "            0.01438731, -0.02910743],\n",
              "          [-0.183842  , -0.19155803, -0.02091826, ..., -0.04110762,\n",
              "           -0.05723576, -0.09736406],\n",
              "          [-0.11863336, -0.08048046, -0.14655998, ..., -0.11122502,\n",
              "            0.03795693,  0.01564727]],\n",
              " \n",
              "         [[ 0.11863344, -0.0568958 , -0.02572167, ..., -0.11462548,\n",
              "            0.14035   , -0.02324418],\n",
              "          [-0.11855819, -0.04469611, -0.18373227, ...,  0.03687815,\n",
              "           -0.02947958,  0.02404648],\n",
              "          [-0.04659709, -0.07715646, -0.05762168, ...,  0.01927253,\n",
              "            0.08899223, -0.06057262],\n",
              "          ...,\n",
              "          [ 0.05381855,  0.1424778 ,  0.01153599, ...,  0.13117424,\n",
              "           -0.0892432 ,  0.02044772],\n",
              "          [-0.09942365,  0.07540719,  0.14661455, ..., -0.10886791,\n",
              "           -0.05897039, -0.07262724],\n",
              "          [ 0.01631471, -0.04100974, -0.08635695, ...,  0.0030423 ,\n",
              "            0.04744476, -0.00909793]],\n",
              " \n",
              "         [[-0.06886277, -0.06761439,  0.08742838, ...,  0.00204443,\n",
              "            0.0362257 ,  0.07278663],\n",
              "          [ 0.10112009,  0.08312323,  0.10627359, ..., -0.06308152,\n",
              "            0.05684434, -0.02200728],\n",
              "          [-0.02804183, -0.08582991,  0.03466753, ..., -0.24530497,\n",
              "           -0.06586318,  0.13001531],\n",
              "          ...,\n",
              "          [ 0.06085045,  0.00309374, -0.07166782, ...,  0.0155576 ,\n",
              "            0.0041728 , -0.12116034],\n",
              "          [ 0.05380004, -0.06350265,  0.01121215, ..., -0.09983124,\n",
              "            0.0192405 ,  0.01443385],\n",
              "          [-0.01332234,  0.13330348, -0.22643639, ...,  0.00034651,\n",
              "           -0.13667218,  0.0614629 ]]],\n",
              " \n",
              " \n",
              "        [[[ 0.09577898,  0.13127223,  0.04084336, ...,  0.08529999,\n",
              "           -0.09841365,  0.03989208],\n",
              "          [ 0.01973429,  0.01097698, -0.27343166, ..., -0.1255407 ,\n",
              "           -0.06060587, -0.16555232],\n",
              "          [-0.12576748, -0.14646354, -0.05907252, ...,  0.00730632,\n",
              "           -0.11538003,  0.01032006],\n",
              "          ...,\n",
              "          [-0.02719955, -0.05928202,  0.02721247, ...,  0.03556912,\n",
              "            0.09601739, -0.00690027],\n",
              "          [ 0.09634773,  0.00984113,  0.05499185, ...,  0.0113032 ,\n",
              "            0.06038307, -0.04570696],\n",
              "          [-0.15719174,  0.09283391, -0.0130089 , ...,  0.10078961,\n",
              "            0.079625  ,  0.00682569]],\n",
              " \n",
              "         [[ 0.02551553, -0.00708147,  0.0052711 , ..., -0.07121104,\n",
              "           -0.00287533,  0.05132356],\n",
              "          [-0.06788524,  0.01745929,  0.00050498, ...,  0.08122293,\n",
              "            0.07426376,  0.00935222],\n",
              "          [-0.00137267,  0.03602593,  0.05853004, ..., -0.02950687,\n",
              "           -0.08276968,  0.02240613],\n",
              "          ...,\n",
              "          [-0.08526011, -0.04870648,  0.08373426, ...,  0.03008096,\n",
              "            0.13044693,  0.07768316],\n",
              "          [ 0.02697704, -0.09814324,  0.07684448, ..., -0.02085852,\n",
              "            0.10667662,  0.01042707],\n",
              "          [-0.06715849, -0.14855146, -0.04852123, ..., -0.00727761,\n",
              "           -0.04335625, -0.05353975]],\n",
              " \n",
              "         [[ 0.0111468 ,  0.01653275,  0.09532627, ..., -0.01522195,\n",
              "           -0.14011782,  0.04587263],\n",
              "          [-0.11092976,  0.04119219, -0.05541182, ...,  0.10681293,\n",
              "           -0.01444116,  0.00195589],\n",
              "          [-0.14340332, -0.0706017 , -0.14988208, ...,  0.01337032,\n",
              "           -0.01595764, -0.11529975],\n",
              "          ...,\n",
              "          [-0.05676078, -0.10262992,  0.10149391, ...,  0.13409148,\n",
              "            0.01247621,  0.2525312 ],\n",
              "          [-0.04980158, -0.02237942,  0.01712954, ..., -0.08853045,\n",
              "           -0.01839934,  0.19029574],\n",
              "          [-0.05055083,  0.08929891, -0.0382913 , ...,  0.08108839,\n",
              "           -0.01557032, -0.07300908]]],\n",
              " \n",
              " \n",
              "        [[[-0.05494519, -0.15537123,  0.27734122, ..., -0.03533729,\n",
              "           -0.05266725,  0.02615616],\n",
              "          [ 0.07509035,  0.09929892,  0.07886837, ...,  0.0165294 ,\n",
              "            0.04762146,  0.01517878],\n",
              "          [ 0.04999734, -0.08150233, -0.06009171, ...,  0.161537  ,\n",
              "           -0.01871392, -0.02773104],\n",
              "          ...,\n",
              "          [-0.07051829, -0.03751367,  0.05735893, ..., -0.07467204,\n",
              "            0.11767186,  0.0096624 ],\n",
              "          [ 0.09075761, -0.0620994 ,  0.00128104, ..., -0.03551702,\n",
              "           -0.10547474,  0.09031789],\n",
              "          [ 0.10738751, -0.02681856, -0.02897294, ...,  0.08592785,\n",
              "            0.11307998,  0.03338593]],\n",
              " \n",
              "         [[ 0.10412738, -0.05393656, -0.11135483, ...,  0.0119389 ,\n",
              "           -0.0695461 ,  0.02366224],\n",
              "          [-0.13701904,  0.02426948, -0.14569281, ..., -0.00180542,\n",
              "           -0.05211561, -0.02445796],\n",
              "          [-0.10125514, -0.11871406,  0.02974312, ..., -0.0790497 ,\n",
              "            0.00634488, -0.1496792 ],\n",
              "          ...,\n",
              "          [-0.01052013, -0.03520498,  0.0215248 , ..., -0.021182  ,\n",
              "           -0.03943004, -0.06129879],\n",
              "          [-0.02250657,  0.06496912,  0.05410478, ...,  0.00441408,\n",
              "            0.10247842, -0.03584648],\n",
              "          [ 0.14394183, -0.09699223,  0.07575023, ...,  0.03300007,\n",
              "           -0.10288848,  0.13032193]],\n",
              " \n",
              "         [[ 0.01812763,  0.00389767, -0.10557353, ..., -0.10828697,\n",
              "           -0.05766605, -0.02718774],\n",
              "          [ 0.03540938, -0.07487964,  0.01233752, ...,  0.11124532,\n",
              "           -0.12117962,  0.08592593],\n",
              "          [-0.00063334,  0.02908643,  0.06592277, ..., -0.05118816,\n",
              "           -0.06673925, -0.03272778],\n",
              "          ...,\n",
              "          [-0.05432119,  0.04267475,  0.06405577, ...,  0.01745084,\n",
              "           -0.08942451, -0.10240592],\n",
              "          [ 0.13500515,  0.17805377, -0.02668263, ...,  0.20388836,\n",
              "           -0.11369618,  0.05366258],\n",
              "          [ 0.02461561,  0.16595143,  0.15385798, ...,  0.02820065,\n",
              "           -0.07795997,  0.00282673]]]], dtype=float32)>,\n",
              " <tf.Variable 'Variable:0' shape=(16,) dtype=float32, numpy=\n",
              " array([ 0.04111658,  0.0225825 , -0.045979  ,  0.18107957,  0.23625748,\n",
              "        -0.03781741, -0.00137883, -0.01353131,  0.01534868,  0.03992293,\n",
              "         0.07103518, -0.00140594,  0.07916513,  0.00283498,  0.02285159,\n",
              "        -0.19632918], dtype=float32)>,\n",
              " <tf.Variable 'Variable:0' shape=(16384, 10) dtype=float32, numpy=\n",
              " array([[-0.00385559, -0.00497063,  0.00805082, ..., -0.01646183,\n",
              "          0.01891257,  0.00477845],\n",
              "        [-0.00622581,  0.01462889,  0.01069412, ..., -0.00347717,\n",
              "          0.00307163, -0.00025679],\n",
              "        [ 0.01068071,  0.00541588, -0.00992206, ..., -0.00761768,\n",
              "          0.01975129, -0.00126591],\n",
              "        ...,\n",
              "        [ 0.00301617, -0.00342663,  0.0108214 , ..., -0.01306531,\n",
              "          0.02169416,  0.00205032],\n",
              "        [-0.00230666,  0.00160254,  0.0076492 , ..., -0.00605456,\n",
              "         -0.00238777,  0.00058263],\n",
              "        [ 0.03040848,  0.0070061 ,  0.01346625, ...,  0.01289901,\n",
              "         -0.01724233, -0.00820473]], dtype=float32)>,\n",
              " <tf.Variable 'Variable:0' shape=(10,) dtype=float32, numpy=\n",
              " array([-0.01077343, -0.0465109 ,  0.03100543,  0.01113448,  0.05183668,\n",
              "        -0.00765903,  0.01339578, -0.03221434,  0.02720012, -0.03741478],\n",
              "       dtype=float32)>]"
            ]
          },
          "metadata": {},
          "execution_count": 18
        }
      ],
      "source": [
        "def three_layer_convnet_init():\n",
        "    \"\"\"\n",
        "    Initialize the weights of a Three-Layer ConvNet, for use with the\n",
        "    three_layer_convnet function defined above.\n",
        "    You can use the `create_matrix_with_kaiming_normal` helper!\n",
        "    \n",
        "    Inputs: None\n",
        "    \n",
        "    Returns a list containing:\n",
        "    - conv_w1: TensorFlow tf.Variable giving weights for the first conv layer\n",
        "    - conv_b1: TensorFlow tf.Variable giving biases for the first conv layer\n",
        "    - conv_w2: TensorFlow tf.Variable giving weights for the second conv layer\n",
        "    - conv_b2: TensorFlow tf.Variable giving biases for the second conv layer\n",
        "    - fc_w: TensorFlow tf.Variable giving weights for the fully-connected layer\n",
        "    - fc_b: TensorFlow tf.Variable giving biases for the fully-connected layer\n",
        "    \"\"\"\n",
        "    params = None\n",
        "    ############################################################################\n",
        "    # TODO: Initialize the parameters of the three-layer network.              #\n",
        "    ############################################################################\n",
        "    # *****START OF YOUR CODE (DO NOT DELETE/MODIFY THIS LINE)*****\n",
        "\n",
        "    conv_w1 = tf.Variable(create_matrix_with_kaiming_normal((5, 5, 3, 32)))\n",
        "    conv_b1 = tf.Variable(tf.zeros((32, )))\n",
        "    conv_w2 = tf.Variable(create_matrix_with_kaiming_normal((3, 3, 32, 16)))\n",
        "    conv_b2 = tf.Variable(tf.zeros((16, )))\n",
        "    fc_w = tf.Variable(create_matrix_with_kaiming_normal((32 * 32 * 16, 10)))\n",
        "    fc_b = tf.Variable(tf.zeros((10, )))\n",
        "\n",
        "    params = [conv_w1, conv_b1, conv_w2, conv_b2, fc_w, fc_b]\n",
        "\n",
        "    # *****END OF YOUR CODE (DO NOT DELETE/MODIFY THIS LINE)*****\n",
        "    ############################################################################\n",
        "    #                             END OF YOUR CODE                             #\n",
        "    ############################################################################\n",
        "    return params\n",
        "\n",
        "learning_rate = 3e-3\n",
        "train_part2(three_layer_convnet, three_layer_convnet_init, learning_rate,5)"
      ]
    },
    {
      "cell_type": "markdown",
      "metadata": {
        "id": "O1LDBYtrTKDF"
      },
      "source": [
        "# Part V: Train a _GREAT_ model on CIFAR-10!\n",
        "\n",
        "In this section you can experiment with whatever ConvNet architecture you'd like on CIFAR-10.\n",
        "\n",
        "You should experiment with architectures, hyperparameters, loss functions, regularization, or anything else you can think of to train a model that achieves **at least 70%** accuracy on the **validation** set within 10 epochs. You can use the built-in train function, the `train_part34` function from above, or implement your own training loop.\n",
        "\n",
        "Describe what you did at the end of the notebook.\n",
        "\n",
        "### Some things you can try:\n",
        "- **Filter size**: Above we used 5x5 and 3x3; is this optimal?\n",
        "- **Number of filters**: Above we used 16 and 32 filters. Would more or fewer do better?\n",
        "- **Pooling**: We didn't use any pooling above. Would this improve the model?\n",
        "- **Normalization**: Would your model be improved with batch normalization, layer normalization, group normalization, or some other normalization strategy?\n",
        "- **Network architecture**: The ConvNet above has only three layers of trainable parameters. Would a deeper model do better? Good architectures to try include:\n",
        "    - [conv-relu-pool]xN -> [affine]xM -> [softmax or SVM]\n",
        "    - [conv-relu-conv-relu-pool]xN -> [affine]xM -> [softmax or SVM]\n",
        "    - [batchnorm-relu-conv]xN -> [affine]xM -> [softmax or SVM]\n",
        "- **Global average pooling**: Instead of flattening after the final convolutional layer, would global average pooling do better? This strategy is used for example in Google's Inception network and in Residual Networks.\n",
        "- **Regularization**: Would some kind of regularization improve performance? Maybe weight decay or dropout?\n",
        "\n",
        "### NOTE: Batch Normalization / Dropout\n",
        "If you are using Batch Normalization and Dropout, remember to pass `is_training=True` if you use the `train_part34()` function. BatchNorm and Dropout layers have different behaviors at training and inference time. `training` is a specific keyword argument reserved for this purpose in any `tf.keras.Model`'s `call()` function. Read more about this here : https://www.tensorflow.org/versions/r2.0/api_docs/python/tf/keras/layers/BatchNormalization#methods\n",
        "https://www.tensorflow.org/versions/r2.0/api_docs/python/tf/keras/layers/Dropout#methods\n",
        "\n",
        "### Tips for training\n",
        "For each network architecture that you try, you should tune the learning rate and other hyperparameters. When doing this there are a couple important things to keep in mind: \n",
        "\n",
        "- If the parameters are working well, you should see improvement within a few hundred iterations\n",
        "- Remember the coarse-to-fine approach for hyperparameter tuning: start by testing a large range of hyperparameters for just a few training iterations to find the combinations of parameters that are working at all.\n",
        "- Once you have found some sets of parameters that seem to work, search more finely around these parameters. You may need to train for more epochs.\n",
        "- You should use the validation set for hyperparameter search, and save your test set for evaluating your architecture on the best parameters as selected by the validation set.\n",
        "\n",
        "### Going above and beyond\n",
        "If you are feeling adventurous there are many other features you can implement to try and improve your performance. You are **not required** to implement any of these, but don't miss the fun if you have time!\n",
        "\n",
        "- Alternative optimizers: you can try Adam, Adagrad, RMSprop, etc.\n",
        "- Alternative activation functions such as leaky ReLU, parametric ReLU, ELU, or MaxOut.\n",
        "- Model ensembles\n",
        "- Data augmentation\n",
        "- New Architectures\n",
        "  - [ResNets](https://arxiv.org/abs/1512.03385) where the input from the previous layer is added to the output.\n",
        "  - [DenseNets](https://arxiv.org/abs/1608.06993) where inputs into previous layers are concatenated together.\n",
        "  - [This blog has an in-depth overview](https://chatbotslife.com/resnets-highwaynets-and-densenets-oh-my-9bb15918ee32)\n",
        "  \n",
        "### Have fun and happy training! "
      ]
    },
    {
      "cell_type": "code",
      "execution_count": 23,
      "metadata": {
        "id": "bl2A5hyBTKDF"
      },
      "outputs": [],
      "source": [
        "def train_part34(model_init_fn, optimizer_init_fn, num_epochs=1, is_training=False):\n",
        "    ############################################################################\n",
        "    # TODO: Train a model on CIFAR-10.                 #\n",
        "    ############################################################################\n",
        "    # *****START OF YOUR CODE (DO NOT DELETE/MODIFY THIS LINE)*****\n",
        "    \n",
        "    model = model_init_fn()\n",
        "    optimizer = optimizer_init_fn()\n",
        "\n",
        "    model.compile(optimizer, loss=tf.keras.losses.SparseCategoricalCrossentropy(), metrics=['accuracy'])\n",
        "    model.fit(X_train, y_train, batch_size=128, epochs=num_epochs, validation_data=(X_val, y_val))\n",
        "    return model\n",
        "\n",
        "    # *****END OF YOUR CODE (DO NOT DELETE/MODIFY THIS LINE)*****\n",
        "    ############################################################################\n",
        "    #                            END OF YOUR CODE                              #\n",
        "    ############################################################################"
      ]
    },
    {
      "cell_type": "code",
      "execution_count": 42,
      "metadata": {
        "colab": {
          "base_uri": "https://localhost:8080/"
        },
        "id": "9L7GXlBATKDF",
        "outputId": "e530a40d-447c-430f-e6b5-24dc506b2b34"
      },
      "outputs": [
        {
          "output_type": "stream",
          "name": "stdout",
          "text": [
            "Train\n",
            "Epoch 1/10\n",
            "383/383 [==============================] - 50s 47ms/step - loss: 1.6591 - accuracy: 0.3869 - val_loss: 1.2449 - val_accuracy: 0.5480\n",
            "Epoch 2/10\n",
            "383/383 [==============================] - 18s 47ms/step - loss: 1.1836 - accuracy: 0.5777 - val_loss: 0.9366 - val_accuracy: 0.6730\n",
            "Epoch 3/10\n",
            "383/383 [==============================] - 18s 47ms/step - loss: 0.9362 - accuracy: 0.6771 - val_loss: 0.7637 - val_accuracy: 0.7380\n",
            "Epoch 4/10\n",
            "383/383 [==============================] - 18s 48ms/step - loss: 0.7842 - accuracy: 0.7313 - val_loss: 0.7788 - val_accuracy: 0.7240\n",
            "Epoch 5/10\n",
            "383/383 [==============================] - 18s 48ms/step - loss: 0.6649 - accuracy: 0.7688 - val_loss: 0.7140 - val_accuracy: 0.7460\n",
            "Epoch 6/10\n",
            "383/383 [==============================] - 18s 48ms/step - loss: 0.5614 - accuracy: 0.8083 - val_loss: 0.6787 - val_accuracy: 0.7710\n",
            "Epoch 7/10\n",
            "383/383 [==============================] - 18s 48ms/step - loss: 0.4760 - accuracy: 0.8361 - val_loss: 0.7049 - val_accuracy: 0.7720\n",
            "Epoch 8/10\n",
            "383/383 [==============================] - 18s 48ms/step - loss: 0.4051 - accuracy: 0.8608 - val_loss: 0.7497 - val_accuracy: 0.7670\n",
            "Epoch 9/10\n",
            "383/383 [==============================] - 19s 48ms/step - loss: 0.3439 - accuracy: 0.8819 - val_loss: 0.7427 - val_accuracy: 0.7880\n",
            "Epoch 10/10\n",
            "383/383 [==============================] - 19s 48ms/step - loss: 0.3066 - accuracy: 0.8950 - val_loss: 0.7518 - val_accuracy: 0.7850\n"
          ]
        }
      ],
      "source": [
        "class CustomConvNet(tf.keras.Model):\n",
        "    def __init__(self):\n",
        "        super(CustomConvNet, self).__init__()\n",
        "        ############################################################################\n",
        "        # TODO: Construct a model that performs well on CIFAR-10                   #\n",
        "        ############################################################################\n",
        "        # *****START OF YOUR CODE (DO NOT DELETE/MODIFY THIS LINE)*****\n",
        "\n",
        "        self.conv1 = tf.keras.layers.Conv2D(64, 5, padding=\"same\", activation=\"relu\") \n",
        "        self.conv2 = tf.keras.layers.Conv2D(128, 5, padding=\"same\", activation=\"relu\")\n",
        "        self.maxpooling1 = tf.keras.layers.MaxPooling2D(2)\n",
        "        self.conv3 = tf.keras.layers.Conv2D(128, 3, padding=\"same\", activation=\"relu\")\n",
        "        self.conv4 = tf.keras.layers.Conv2D(512, 3, padding=\"same\", activation=\"relu\")\n",
        "        self.maxpooling2 = tf.keras.layers.MaxPooling2D(2)\n",
        "\n",
        "        self.flatten = tf.keras.layers.Flatten()\n",
        "        self.dense1 = tf.keras.layers.Dense(512, activation='relu')\n",
        "        self.dropout1 = tf.keras.layers.Dropout(0.5)\n",
        "        self.dense2 = tf.keras.layers.Dense(256, activation='relu')\n",
        "        self.dropout2 = tf.keras.layers.Dropout(0.5)\n",
        "        self.softmax = tf.keras.layers.Dense(10, activation='softmax')\n",
        "\n",
        "        # *****END OF YOUR CODE (DO NOT DELETE/MODIFY THIS LINE)*****\n",
        "        ############################################################################\n",
        "        #                            END OF YOUR CODE                              #\n",
        "        ############################################################################\n",
        "    \n",
        "    def call(self, input_tensor, training=False):\n",
        "        ############################################################################\n",
        "        # TODO: Construct a model that performs well on CIFAR-10                   #\n",
        "        ############################################################################\n",
        "        # *****START OF YOUR CODE (DO NOT DELETE/MODIFY THIS LINE)*****\n",
        "\n",
        "        x = self.maxpooling1(self.conv2(self.conv1(input_tensor)))\n",
        "        x = self.maxpooling2(self.conv4(self.conv3(x)))\n",
        "        x = self.flatten(x)\n",
        "        x = self.dropout1(self.dense1(x))\n",
        "        x = self.dropout2(self.dense2(x))\n",
        "        x = self.softmax(x)\n",
        "\n",
        "        # *****END OF YOUR CODE (DO NOT DELETE/MODIFY THIS LINE)*****\n",
        "        ############################################################################\n",
        "        #                            END OF YOUR CODE                              #\n",
        "        ############################################################################\n",
        "        \n",
        "        return x\n",
        "\n",
        "device = '/device:GPU:0'   # Change this to a CPU/GPU as you wish!\n",
        "# device = '/cpu:0'        # Change this to a CPU/GPU as you wish!\n",
        "print_every = 700\n",
        "num_epochs = 10\n",
        "\n",
        "model = CustomConvNet()\n",
        "\n",
        "def model_init_fn():\n",
        "    return CustomConvNet()\n",
        "\n",
        "def optimizer_init_fn():\n",
        "    learning_rate = 1e-3\n",
        "    return tf.keras.optimizers.Adam(learning_rate) \n",
        "print('Train')\n",
        "trained_params =train_part34(model_init_fn, optimizer_init_fn, num_epochs=num_epochs, is_training=True)\n",
        "\n",
        "# print('Test')\n",
        "# check_accuracy(test_dset, model_init_fn, trained_params)"
      ]
    },
    {
      "cell_type": "code",
      "execution_count": 43,
      "metadata": {
        "colab": {
          "base_uri": "https://localhost:8080/"
        },
        "id": "304VdeVXTKDG",
        "outputId": "546bfeb6-af4a-44fc-920d-187bb1b5f443"
      },
      "outputs": [
        {
          "output_type": "stream",
          "name": "stdout",
          "text": [
            "Test\n",
            "313/313 [==============================] - 2s 6ms/step - loss: 0.8674 - accuracy: 0.7520\n"
          ]
        },
        {
          "output_type": "execute_result",
          "data": {
            "text/plain": [
              "[0.8674042820930481, 0.7519999742507935]"
            ]
          },
          "metadata": {},
          "execution_count": 43
        }
      ],
      "source": [
        "print('Test')\n",
        "trained_params.evaluate(X_test,y_test)"
      ]
    },
    {
      "cell_type": "markdown",
      "metadata": {
        "tags": [
          "pdf-inline"
        ],
        "id": "C-9jINRYTKDG"
      },
      "source": [
        "## Describe what you did \n",
        "\n",
        "In the cell below you should write an explanation of what you did, any additional features that you implemented, and/or any graphs that you made in the process of training and evaluating your network."
      ]
    },
    {
      "cell_type": "markdown",
      "metadata": {
        "tags": [
          "pdf-inline"
        ],
        "id": "uFDn7IG-TKDG"
      },
      "source": [
        "TODO: Tell us what you did\n",
        "\n",
        "I experimented with the number of filters and eventually used **64, 128, and 512** **number of filters**, where more filters are used in the later convolutional layers. For filter sizes, I stuck to **5x5 and 3x3 filter sizes**, with the smaller filter sizes for the later convolutions so that the receptive field will be larger. I used one of the recommended architectures **[conv-relu-conv-relu-pool]xN ->[affine]xM->[softmax]** with **maxpooling** as the pooling layers. I used 2 of the [conv-relu-conv-relu-pool] setup as using more did not improve the performance, and used 2 affine layers with a **high number of nodes** as it improved the performance of the model. For regularization, I used **dropout layers with 0.5 dropout rate** between each dense layers as the model seems to perform much better on the training set than the validation set."
      ]
    },
    {
      "cell_type": "code",
      "source": [
        ""
      ],
      "metadata": {
        "id": "gLwSpud0iE2W"
      },
      "execution_count": null,
      "outputs": []
    }
  ],
  "metadata": {
    "kernelspec": {
      "display_name": "Python 3",
      "language": "python",
      "name": "python3"
    },
    "language_info": {
      "codemirror_mode": {
        "name": "ipython",
        "version": 3
      },
      "file_extension": ".py",
      "mimetype": "text/x-python",
      "name": "python",
      "nbconvert_exporter": "python",
      "pygments_lexer": "ipython3",
      "version": "3.6.13"
    },
    "colab": {
      "name": "TensorFlow.ipynb",
      "provenance": []
    },
    "accelerator": "GPU"
  },
  "nbformat": 4,
  "nbformat_minor": 0
}